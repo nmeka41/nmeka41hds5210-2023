{
  "nbformat": 4,
  "nbformat_minor": 0,
  "metadata": {
    "colab": {
      "provenance": [],
      "authorship_tag": "ABX9TyPAP7q0eSY1N3KsbJ3c4EBq",
      "include_colab_link": true
    },
    "kernelspec": {
      "name": "python3",
      "display_name": "Python 3"
    },
    "language_info": {
      "name": "python"
    }
  },
  "cells": [
    {
      "cell_type": "markdown",
      "metadata": {
        "id": "view-in-github",
        "colab_type": "text"
      },
      "source": [
        "<a href=\"https://colab.research.google.com/github/nmeka41/nmeka41hds5210-2023/blob/main/final/final.ipynb\" target=\"_parent\"><img src=\"https://colab.research.google.com/assets/colab-badge.svg\" alt=\"Open In Colab\"/></a>"
      ]
    },
    {
      "cell_type": "markdown",
      "source": [
        "# **Programming for Health Data Scientists HDS5210,02 - 2023 Final Project**\n",
        "\n",
        "There is lot of research done between the smoking, Body Mass Index and medical expenses. In this final project I am going to work on research based on the association between smoking status, range of economic and health outcomes which has emphasis on BMI, insurance costs, and diabetes.\n",
        "The main intention is to make health and policy professionals to understand the smoking status of persons health and financial securities. It also helps to make people aware of value of smoking programs, and healthcare interventions.\n",
        "\n",
        "\n",
        "The main motive of the project was to inspect the following\n",
        "\n",
        "1.  To ascertain whether the BMIs of smokers and non-smokers differ statistically significantly.\n",
        "2. To investigate the potential significance of smoking as a predictor of diabetes after adjusting for age and BMI.   \n",
        "3.To calculate the financial effects of smoking on health insurance premiums in order to shed light on the financial burden of smoking.\n",
        "4. To comprehend how smoking incidence varies among age groups and how it can affect insurance costs and health outcomes.\n",
        "\n",
        "\n"
      ],
      "metadata": {
        "id": "1LWB3obnYX80"
      }
    },
    {
      "cell_type": "markdown",
      "source": [
        "## **1.Data sources and Methodology**\n",
        "\n",
        "1.1 **Data Sources**\n",
        "\n",
        "The following data sources was loaded from\n",
        "\n",
        "Diabetes data was Grasped from   https://www.kaggle.com/datasets/saurabh00007/diabetescsv as CSV format.\n",
        "\n",
        "Insurance data was  loaded from https://www.kaggle.com/datasets/awaiskaggler/insurance-csv as CSV format.\n",
        "\n",
        "This dataset was loaded from https://www4.stat.ncsu.edu/%7Eboos/var.select/diabetes.tab.txt as JSON Format"
      ],
      "metadata": {
        "id": "7djoGRrvOHE-"
      }
    },
    {
      "cell_type": "markdown",
      "source": [
        "**1.2 Loading diabetes dataset**\n",
        "\n",
        "•\tHere, In several columns such Pregnancies, SkinThickness, and Insulin, there is a mixture of non-zero and zero numbers. This could indicate that for some people, important measures were not made or recorded.\n",
        "\n",
        "•\tSignificant variation in the range of glucose levels indicates a varied group of people with different blood sugar management levels.\n",
        "\n",
        "•\tThe Outcome variable implies that the data contains both non-diabetic (0) and diabetic (1) individuals, enabling comparisons between these two groups.\n",
        "\n",
        "•\tIndividuals in the dataset range widely in age, from a minimum of 21 to a high of at least 63 years old.\n"
      ],
      "metadata": {
        "id": "ZlrvzoQdOHy_"
      }
    },
    {
      "cell_type": "code",
      "source": [
        "import pandas as pd\n",
        "diabetes = pd.read_csv ('/content/diabetes.csv')\n",
        "print(diabetes)\n"
      ],
      "metadata": {
        "colab": {
          "base_uri": "https://localhost:8080/"
        },
        "id": "ueEWkLkUYsU1",
        "outputId": "a553f009-cf7a-4b82-d105-b7cc72aabc5e"
      },
      "execution_count": 18,
      "outputs": [
        {
          "output_type": "stream",
          "name": "stdout",
          "text": [
            "     Pregnancies  Glucose  BloodPressure  SkinThickness  Insulin   BMI  \\\n",
            "0              6      148             72             35        0  33.6   \n",
            "1              1       85             66             29        0  26.6   \n",
            "2              8      183             64              0        0  23.3   \n",
            "3              1       89             66             23       94  28.1   \n",
            "4              0      137             40             35      168  43.1   \n",
            "..           ...      ...            ...            ...      ...   ...   \n",
            "763           10      101             76             48      180  32.9   \n",
            "764            2      122             70             27        0  36.8   \n",
            "765            5      121             72             23      112  26.2   \n",
            "766            1      126             60              0        0  30.1   \n",
            "767            1       93             70             31        0  30.4   \n",
            "\n",
            "     DiabetesPedigreeFunction  Age  Outcome  \n",
            "0                       0.627   50        1  \n",
            "1                       0.351   31        0  \n",
            "2                       0.672   32        1  \n",
            "3                       0.167   21        0  \n",
            "4                       2.288   33        1  \n",
            "..                        ...  ...      ...  \n",
            "763                     0.171   63        0  \n",
            "764                     0.340   27        0  \n",
            "765                     0.245   30        0  \n",
            "766                     0.349   47        1  \n",
            "767                     0.315   23        0  \n",
            "\n",
            "[768 rows x 9 columns]\n"
          ]
        }
      ]
    },
    {
      "cell_type": "markdown",
      "source": [
        "**1.3 Loading insurance dataset**\n",
        "\n",
        "•\tThe mixture of smokers and non-smokers might be utilized to examine how smoking affects medical expenses.\n",
        "\n",
        "•\tSome people appear to be single adults if they have no children, while others appear to have one or more children, suggesting varying sizes of families.\n",
        "\n",
        "•\tThe insurance charges exhibit a notable degree of unpredictability, suggesting the possibility of intricate relationships between many variables and the incurred expenses.\n",
        "\n",
        "•\tMultivariate analysis, including any interactions between the variables (e.g., does smoking have a different influence on charges based on age or region?), is probably possible with this dataset in order to investigate the impact of these variables on insurance costs.\n",
        "\n"
      ],
      "metadata": {
        "id": "GUkkYD2YY9-X"
      }
    },
    {
      "cell_type": "code",
      "source": [
        "import pandas as pd\n",
        "insurance = pd.read_csv ('/content/insurance.csv')\n",
        "print(insurance)"
      ],
      "metadata": {
        "colab": {
          "base_uri": "https://localhost:8080/"
        },
        "id": "x3Wng2IbZBVu",
        "outputId": "d171d087-9371-4953-f6e9-3ce48852db5e"
      },
      "execution_count": 19,
      "outputs": [
        {
          "output_type": "stream",
          "name": "stdout",
          "text": [
            "      age     sex     bmi  children smoker     region      charges\n",
            "0      19  female  27.900         0    yes  southwest  16884.92400\n",
            "1      18    male  33.770         1     no  southeast   1725.55230\n",
            "2      28    male  33.000         3     no  southeast   4449.46200\n",
            "3      33    male  22.705         0     no  northwest  21984.47061\n",
            "4      32    male  28.880         0     no  northwest   3866.85520\n",
            "...   ...     ...     ...       ...    ...        ...          ...\n",
            "1333   50    male  30.970         3     no  northwest  10600.54830\n",
            "1334   18  female  31.920         0     no  northeast   2205.98080\n",
            "1335   18  female  36.850         0     no  southeast   1629.83350\n",
            "1336   21  female  25.800         0     no  southwest   2007.94500\n",
            "1337   61  female  29.070         0    yes  northwest  29141.36030\n",
            "\n",
            "[1338 rows x 7 columns]\n"
          ]
        }
      ]
    },
    {
      "cell_type": "markdown",
      "source": [
        "**1.4 Loading data package JSON dataset**\n",
        "\n",
        "•\tComprising \"AGE\", \"BMI\", \"BP\", \"S1\" to \"S6\", and \"Y\", which probably correspond to several health-related parameters.\n",
        "\n",
        "•\tHas a range of blood pressure, age, and BMI data, suggesting a varied sample group.\n",
        "\n",
        "\n",
        "•\tSeems comprehensive and well-organized, making it appropriate for machine learning or statistical analysis applications in health research.\n"
      ],
      "metadata": {
        "id": "Ir7sZkbQ7V0M"
      }
    },
    {
      "cell_type": "code",
      "source": [
        "import pandas as pd\n",
        "datapackage = pd.read_json('/content/datapackage.json')\n",
        "print(datapackage)\n"
      ],
      "metadata": {
        "colab": {
          "base_uri": "https://localhost:8080/"
        },
        "id": "KqfHA4Wg7VRH",
        "outputId": "a29d0814-95b4-4dc2-ff00-b6de26ea07ec"
      },
      "execution_count": 20,
      "outputs": [
        {
          "output_type": "stream",
          "name": "stdout",
          "text": [
            "     AGE   BMI      BP   S1     S2    S3    S4      S5   S6    Y\n",
            "0     59  32.1  101.00  157   93.2  38.0  4.00  4.8598   87  151\n",
            "1     48  21.6   87.00  183  103.2  70.0  3.00  3.8918   69   75\n",
            "2     72  30.5   93.00  156   93.6  41.0  4.00  4.6728   85  141\n",
            "3     24  25.3   84.00  198  131.4  40.0  5.00  4.8903   89  206\n",
            "4     50  23.0  101.00  192  125.4  52.0  4.00  4.2905   80  135\n",
            "..   ...   ...     ...  ...    ...   ...   ...     ...  ...  ...\n",
            "437   60  28.2  112.00  185  113.8  42.0  4.00  4.9836   93  178\n",
            "438   47  24.9   75.00  225  166.0  42.0  5.00  4.4427  102  104\n",
            "439   60  24.9   99.67  162  106.6  43.0  3.77  4.1271   95  132\n",
            "440   36  30.0   95.00  201  125.2  42.0  4.79  5.1299   85  220\n",
            "441   36  19.6   71.00  250  133.2  97.0  3.00  4.5951   92   57\n",
            "\n",
            "[442 rows x 10 columns]\n"
          ]
        }
      ]
    },
    {
      "cell_type": "markdown",
      "source": [
        "## **2.Integrating Diabetes and Insurance Datasets for Holistic Health and Economic Analysis**"
      ],
      "metadata": {
        "id": "8NiJ0QmftvT5"
      }
    },
    {
      "cell_type": "markdown",
      "source": [
        "**2.1 Merging diabetes and insurance datasets**\n",
        "\n",
        "Combining the diabetes and insurance datasets according to 'Age' and 'BMI' yields a combined dataset that may add value to the study by enabling the investigation of the relationship between diabetes-related health indicators and financial variables like insurance premiums. Combining the data based on these shared columns may lead to a dataset that takes demographic factors into account and may show trends and correlations between insurance costs and diabetes status."
      ],
      "metadata": {
        "id": "TeXv0u9tZQLJ"
      }
    },
    {
      "cell_type": "code",
      "source": [
        "import pandas as pd\n",
        "# Renaming columns in the Diabetes dataset to match the Insurance dataset\n",
        "insurance.rename(columns={'age': 'Age', 'bmi': 'BMI'}, inplace=True)\n",
        "# Defining common columns for merging\n",
        "common_columns = ['Age', 'BMI']\n",
        "# Merging datasets based on common columns\n",
        "merged_data = pd.merge(diabetes, insurance, on=common_columns)\n",
        "print(merged_data)\n"
      ],
      "metadata": {
        "colab": {
          "base_uri": "https://localhost:8080/"
        },
        "id": "Ij_mpRyVZWwO",
        "outputId": "de9bd33d-1da2-459e-8ca7-8825ea8a1033"
      },
      "execution_count": 21,
      "outputs": [
        {
          "output_type": "stream",
          "name": "stdout",
          "text": [
            "    Pregnancies  Glucose  BloodPressure  SkinThickness  Insulin   BMI  \\\n",
            "0            10      168             74              0        0  38.0   \n",
            "1             5      166             72             19      175  25.8   \n",
            "2             7      159             64              0        0  27.4   \n",
            "3             5       88             66             21       23  24.4   \n",
            "4             7       62             78              0        0  32.6   \n",
            "5             1       81             72             18       40  26.6   \n",
            "6             4      144             58             28      140  29.5   \n",
            "7             4      151             90             38        0  29.7   \n",
            "8             0      177             60             29      478  34.6   \n",
            "9             0      138             60             35      167  34.6   \n",
            "10            9      164             84             21        0  30.8   \n",
            "11            6      119             50             22      176  27.1   \n",
            "12            2      146              0              0        0  27.5   \n",
            "13            4       96             56             17       49  20.8   \n",
            "14            6      105             70             32       68  30.8   \n",
            "15            6      105             70             32       68  30.8   \n",
            "16            1       95             74             21       73  25.9   \n",
            "17            1      125             70             24      110  24.3   \n",
            "18            4      115             72              0        0  28.9   \n",
            "19            2      139             75              0        0  25.6   \n",
            "20            8       74             70             40       49  35.3   \n",
            "21            3       78             70              0        0  32.5   \n",
            "22            3      176             86             27      156  33.3   \n",
            "23           10       92             62              0        0  25.9   \n",
            "24            9      154             78             30      100  30.9   \n",
            "25            5      126             78             27       22  29.6   \n",
            "26            0      134             58             20      291  26.4   \n",
            "\n",
            "    DiabetesPedigreeFunction  Age  Outcome     sex  children smoker  \\\n",
            "0                      0.537   34        1  female         3     no   \n",
            "1                      0.587   51        1  female         1     no   \n",
            "2                      0.294   40        0  female         1     no   \n",
            "3                      0.342   30        0    male         3    yes   \n",
            "4                      0.391   41        0  female         3     no   \n",
            "5                      0.283   24        0  female         0     no   \n",
            "6                      0.287   37        0  female         2     no   \n",
            "7                      0.294   36        0    male         0     no   \n",
            "8                      1.072   21        1  female         0     no   \n",
            "9                      0.534   21        1  female         0     no   \n",
            "10                     0.831   32        1    male         3     no   \n",
            "11                     1.318   33        1    male         1    yes   \n",
            "12                     0.240   28        1  female         2     no   \n",
            "13                     0.340   26        0    male         0     no   \n",
            "14                     0.122   37        0  female         2     no   \n",
            "15                     0.122   37        0    male         0     no   \n",
            "16                     0.673   36        0  female         1     no   \n",
            "17                     0.221   25        0  female         3     no   \n",
            "18                     0.376   46        1  female         2     no   \n",
            "19                     0.167   29        0  female         4     no   \n",
            "20                     0.705   39        0    male         2    yes   \n",
            "21                     0.270   39        0  female         1     no   \n",
            "22                     1.154   52        1  female         2     no   \n",
            "23                     0.167   31        0    male         3    yes   \n",
            "24                     0.164   45        0  female         2     no   \n",
            "25                     0.439   40        0  female         0     no   \n",
            "26                     0.352   21        0  female         1     no   \n",
            "\n",
            "       region      charges  \n",
            "0   southwest   6196.44800  \n",
            "1   southwest   9861.02500  \n",
            "2   southwest   6496.88600  \n",
            "3   southwest  18259.21600  \n",
            "4   southwest   7954.51700  \n",
            "5   northeast   3046.06200  \n",
            "6   southwest   6311.95200  \n",
            "7   southeast   4399.73100  \n",
            "8   southwest   2020.17700  \n",
            "9   southwest   2020.17700  \n",
            "10  southwest   5253.52400  \n",
            "11  southwest  19040.87600  \n",
            "12  southwest  20177.67113  \n",
            "13  southwest   2302.30000  \n",
            "14  southeast   6313.75900  \n",
            "15  southwest   4646.75900  \n",
            "16  southwest   5472.44900  \n",
            "17  southwest   4391.65200  \n",
            "18  southwest   8823.27900  \n",
            "19  southwest   5708.86700  \n",
            "20  southwest  40103.89000  \n",
            "21  southwest   6238.29800  \n",
            "22  southwest  10806.83900  \n",
            "23  southwest  19199.94400  \n",
            "24  southwest   8520.02600  \n",
            "25  southwest   5910.94400  \n",
            "26  southwest   2597.77900  \n"
          ]
        }
      ]
    },
    {
      "cell_type": "markdown",
      "source": [
        "**2.2 Merging insurance  and Data package JSON dataset**\n",
        "\n",
        "Data on health and insurance are combined in the DataFrame. Insurance prices, demographics (age, sex, and smoker status), and health metrics (BMI, blood pressure, and S1–S6 values) are all combined. These variables include age, BMI, and smoking status variations; the dataset may be useful for insurance cost analysis."
      ],
      "metadata": {
        "id": "eIl0Xyddw-5s"
      }
    },
    {
      "cell_type": "code",
      "source": [
        "# Loading JSON file into data frame\n",
        "datapackage = pd.read_json('datapackage.json')\n",
        "# Adding an Age column to the data frame\n",
        "datapackage['Age'] = datapackage.index\n",
        "datapackage.head()\n",
        "# Merging two data frames\n",
        "merged_data2 = pd.merge(insurance, datapackage, on='Age')\n",
        "print(merged_data2)"
      ],
      "metadata": {
        "id": "WJLdv_i_v3BE",
        "colab": {
          "base_uri": "https://localhost:8080/"
        },
        "outputId": "42bb5c9d-b90a-4079-a77d-24c261960c63"
      },
      "execution_count": 22,
      "outputs": [
        {
          "output_type": "stream",
          "name": "stdout",
          "text": [
            "      Age     sex   BMI_x  children smoker     region      charges  AGE  \\\n",
            "0      19  female  27.900         0    yes  southwest  16884.92400   41   \n",
            "1      19    male  24.600         1     no  southwest   1837.23700   41   \n",
            "2      19  female  28.600         5     no  southwest   4687.79700   41   \n",
            "3      19    male  20.425         0     no  northwest   1625.43375   41   \n",
            "4      19  female  28.900         0     no  southwest   1743.21400   41   \n",
            "...   ...     ...     ...       ...    ...        ...          ...  ...   \n",
            "1333   39  female  23.870         5     no  southeast   8582.30230   48   \n",
            "1334   39    male  32.340         2     no  southeast   6338.07560   48   \n",
            "1335   39    male  34.100         2     no  southeast  23563.01618   48   \n",
            "1336   39    male  29.925         1    yes  northeast  22462.04375   48   \n",
            "1337   39  female  26.315         2     no  northwest   7201.70085   48   \n",
            "\n",
            "      BMI_y    BP   S1     S2    S3   S4      S5  S6    Y  \n",
            "0      24.7  83.0  187  108.2  60.0  3.0  4.5433  78  168  \n",
            "1      24.7  83.0  187  108.2  60.0  3.0  4.5433  78  168  \n",
            "2      24.7  83.0  187  108.2  60.0  3.0  4.5433  78  168  \n",
            "3      24.7  83.0  187  108.2  60.0  3.0  4.5433  78  168  \n",
            "4      24.7  83.0  187  108.2  60.0  3.0  4.5433  78  168  \n",
            "...     ...   ...  ...    ...   ...  ...     ...  ..  ...  \n",
            "1333   27.7  73.0  191  119.4  46.0  4.0  4.8520  92   90  \n",
            "1334   27.7  73.0  191  119.4  46.0  4.0  4.8520  92   90  \n",
            "1335   27.7  73.0  191  119.4  46.0  4.0  4.8520  92   90  \n",
            "1336   27.7  73.0  191  119.4  46.0  4.0  4.8520  92   90  \n",
            "1337   27.7  73.0  191  119.4  46.0  4.0  4.8520  92   90  \n",
            "\n",
            "[1338 rows x 17 columns]\n"
          ]
        }
      ]
    },
    {
      "cell_type": "markdown",
      "source": [
        "**2.3 Merging Diabetes and Data package JSON dataset**\n",
        "\n",
        "The two datasets in the Data Frame are diabetes and health. Comprehensive diabetes-related metrics like \"BMI_x,\" \"Diabetes Pedigree Function,\" \"Pregnancies,\" \"Glucose,\" \"Blood Pressure,\" \"Skin Thickness,\" \"Insulin,\" and \"BMI_x\" are included. It also includes BMI ('BMI_y'), blood pressure ('BP'), age-related data ('Age' and 'AGE'), and other health indicators ('S1' through 'S6', and 'Y'). The inclusion of two BMI columns ('BMI_x' and 'BMI_y') and two columns labelled 'Age' and 'AGE' raises the possibility of redundancy that has to be clarified. This dataset appears to be well-suited for a thorough examination of diabetes and how it relates to different health indicators, providing a wealth of information for healthcare research or predictive modelling."
      ],
      "metadata": {
        "id": "KiWqUFpV7Hkt"
      }
    },
    {
      "cell_type": "code",
      "source": [
        "# Loading JSON file into data frame\n",
        "datapackage = pd.read_json('datapackage.json')\n",
        "# Adding an Age column based on  data frame\n",
        "datapackage['Age'] = datapackage.index\n",
        "datapackage.head()\n",
        "# Merging two data frames\n",
        "merged_data3 = pd.merge(diabetes, datapackage, on='Age')\n",
        "print(merged_data3)"
      ],
      "metadata": {
        "colab": {
          "base_uri": "https://localhost:8080/"
        },
        "id": "U4PB8_kJ7HQx",
        "outputId": "b68f2045-8713-40d6-c2eb-eb024de3eb58"
      },
      "execution_count": 23,
      "outputs": [
        {
          "output_type": "stream",
          "name": "stdout",
          "text": [
            "     Pregnancies  Glucose  BloodPressure  SkinThickness  Insulin  BMI_x  \\\n",
            "0              6      148             72             35        0   33.6   \n",
            "1              8       99             84              0        0   35.4   \n",
            "2              7      136             90              0        0   29.9   \n",
            "3              1      164             82             43       67   32.8   \n",
            "4             11      138             74             26      144   36.1   \n",
            "..           ...      ...            ...            ...      ...    ...   \n",
            "763            2      119              0              0        0   19.6   \n",
            "764            9      134             74             33       60   25.9   \n",
            "765            8      120             78              0        0   25.0   \n",
            "766            4      145             82             18        0   32.5   \n",
            "767            8       91             82              0        0   35.6   \n",
            "\n",
            "     DiabetesPedigreeFunction  Age  Outcome  AGE  BMI_y    BP   S1     S2  \\\n",
            "0                       0.627   50        1   58   25.7  99.0  157   91.6   \n",
            "1                       0.388   50        0   58   25.7  99.0  157   91.6   \n",
            "2                       0.210   50        0   58   25.7  99.0  157   91.6   \n",
            "3                       0.341   50        0   58   25.7  99.0  157   91.6   \n",
            "4                       0.557   50        1   58   25.7  99.0  157   91.6   \n",
            "..                        ...  ...      ...  ...    ...   ...  ...    ...   \n",
            "763                     0.832   72        0   66   26.0  91.0  264  146.6   \n",
            "764                     0.460   81        0   52   24.3  86.0  197  133.6   \n",
            "765                     0.409   64        0   67   24.0  83.0  143   77.2   \n",
            "766                     0.235   70        1   48   19.9  91.0  189  109.6   \n",
            "767                     0.587   68        0   59   23.6  83.0  165  100.0   \n",
            "\n",
            "       S3   S4      S5   S6    Y  \n",
            "0    49.0  3.0  4.4067   93  155  \n",
            "1    49.0  3.0  4.4067   93  155  \n",
            "2    49.0  3.0  4.4067   93  155  \n",
            "3    49.0  3.0  4.4067   93  155  \n",
            "4    49.0  3.0  4.4067   93  155  \n",
            "..    ...  ...     ...  ...  ...  \n",
            "763  65.0  4.0  5.5683   87  202  \n",
            "764  44.0  5.0  4.5747   91   51  \n",
            "765  49.0  3.0  4.4308   94   71  \n",
            "766  69.0  3.0  3.9512  101   48  \n",
            "767  47.0  4.0  4.4998   92  160  \n",
            "\n",
            "[768 rows x 19 columns]\n"
          ]
        }
      ]
    },
    {
      "cell_type": "markdown",
      "source": [
        "## **3.Analyzing the Correlation Between Health Metrics and Regional Variations in Insurance Costs and Smoking Rates**"
      ],
      "metadata": {
        "id": "VGe962tlvopm"
      }
    },
    {
      "cell_type": "markdown",
      "source": [
        "**3.1 Pivoting Diabetes dataset**\n",
        "\n",
        "The diabetes dataset's pivot table highlights the main distinctions between the two groups when classified by 'Outcome'. Compared to the non-diabetic group (Outcome 0), individuals with Outcome 1, who are presumed to be diabetic, exhibit higher average values in all measured parameters, including BMI, blood pressure, glucose, and insulin levels, in addition to a higher average age. This implies a relationship between the occurrence of diabetes and certain health indicators."
      ],
      "metadata": {
        "id": "qnntxnxj45fK"
      }
    },
    {
      "cell_type": "code",
      "source": [
        "# Creating a pivot table for the diabetes dataset with specified columns and aggregation function\n",
        "# Specifying the columns for the pivot table\n",
        "pivot_columns = ['BMI', 'BloodPressure', 'Insulin', 'Glucose', 'Age']\n",
        "# Creating the pivot table\n",
        "pivot_table = diabetes.pivot_table(values=pivot_columns, index='Outcome', aggfunc='mean')\n",
        "pivot_table\n"
      ],
      "metadata": {
        "id": "_VlzXpSL4oZ_",
        "colab": {
          "base_uri": "https://localhost:8080/",
          "height": 143
        },
        "outputId": "e6416d12-298c-4554-e2da-99be65ed0f04"
      },
      "execution_count": 24,
      "outputs": [
        {
          "output_type": "execute_result",
          "data": {
            "text/plain": [
              "               Age        BMI  BloodPressure     Glucose     Insulin\n",
              "Outcome                                                             \n",
              "0        31.190000  30.304200      68.184000  109.980000   68.792000\n",
              "1        37.067164  35.142537      70.824627  141.257463  100.335821"
            ],
            "text/html": [
              "\n",
              "  <div id=\"df-2474f5aa-040e-46d1-a1f0-9877e6e44333\" class=\"colab-df-container\">\n",
              "    <div>\n",
              "<style scoped>\n",
              "    .dataframe tbody tr th:only-of-type {\n",
              "        vertical-align: middle;\n",
              "    }\n",
              "\n",
              "    .dataframe tbody tr th {\n",
              "        vertical-align: top;\n",
              "    }\n",
              "\n",
              "    .dataframe thead th {\n",
              "        text-align: right;\n",
              "    }\n",
              "</style>\n",
              "<table border=\"1\" class=\"dataframe\">\n",
              "  <thead>\n",
              "    <tr style=\"text-align: right;\">\n",
              "      <th></th>\n",
              "      <th>Age</th>\n",
              "      <th>BMI</th>\n",
              "      <th>BloodPressure</th>\n",
              "      <th>Glucose</th>\n",
              "      <th>Insulin</th>\n",
              "    </tr>\n",
              "    <tr>\n",
              "      <th>Outcome</th>\n",
              "      <th></th>\n",
              "      <th></th>\n",
              "      <th></th>\n",
              "      <th></th>\n",
              "      <th></th>\n",
              "    </tr>\n",
              "  </thead>\n",
              "  <tbody>\n",
              "    <tr>\n",
              "      <th>0</th>\n",
              "      <td>31.190000</td>\n",
              "      <td>30.304200</td>\n",
              "      <td>68.184000</td>\n",
              "      <td>109.980000</td>\n",
              "      <td>68.792000</td>\n",
              "    </tr>\n",
              "    <tr>\n",
              "      <th>1</th>\n",
              "      <td>37.067164</td>\n",
              "      <td>35.142537</td>\n",
              "      <td>70.824627</td>\n",
              "      <td>141.257463</td>\n",
              "      <td>100.335821</td>\n",
              "    </tr>\n",
              "  </tbody>\n",
              "</table>\n",
              "</div>\n",
              "    <div class=\"colab-df-buttons\">\n",
              "\n",
              "  <div class=\"colab-df-container\">\n",
              "    <button class=\"colab-df-convert\" onclick=\"convertToInteractive('df-2474f5aa-040e-46d1-a1f0-9877e6e44333')\"\n",
              "            title=\"Convert this dataframe to an interactive table.\"\n",
              "            style=\"display:none;\">\n",
              "\n",
              "  <svg xmlns=\"http://www.w3.org/2000/svg\" height=\"24px\" viewBox=\"0 -960 960 960\">\n",
              "    <path d=\"M120-120v-720h720v720H120Zm60-500h600v-160H180v160Zm220 220h160v-160H400v160Zm0 220h160v-160H400v160ZM180-400h160v-160H180v160Zm440 0h160v-160H620v160ZM180-180h160v-160H180v160Zm440 0h160v-160H620v160Z\"/>\n",
              "  </svg>\n",
              "    </button>\n",
              "\n",
              "  <style>\n",
              "    .colab-df-container {\n",
              "      display:flex;\n",
              "      gap: 12px;\n",
              "    }\n",
              "\n",
              "    .colab-df-convert {\n",
              "      background-color: #E8F0FE;\n",
              "      border: none;\n",
              "      border-radius: 50%;\n",
              "      cursor: pointer;\n",
              "      display: none;\n",
              "      fill: #1967D2;\n",
              "      height: 32px;\n",
              "      padding: 0 0 0 0;\n",
              "      width: 32px;\n",
              "    }\n",
              "\n",
              "    .colab-df-convert:hover {\n",
              "      background-color: #E2EBFA;\n",
              "      box-shadow: 0px 1px 2px rgba(60, 64, 67, 0.3), 0px 1px 3px 1px rgba(60, 64, 67, 0.15);\n",
              "      fill: #174EA6;\n",
              "    }\n",
              "\n",
              "    .colab-df-buttons div {\n",
              "      margin-bottom: 4px;\n",
              "    }\n",
              "\n",
              "    [theme=dark] .colab-df-convert {\n",
              "      background-color: #3B4455;\n",
              "      fill: #D2E3FC;\n",
              "    }\n",
              "\n",
              "    [theme=dark] .colab-df-convert:hover {\n",
              "      background-color: #434B5C;\n",
              "      box-shadow: 0px 1px 3px 1px rgba(0, 0, 0, 0.15);\n",
              "      filter: drop-shadow(0px 1px 2px rgba(0, 0, 0, 0.3));\n",
              "      fill: #FFFFFF;\n",
              "    }\n",
              "  </style>\n",
              "\n",
              "    <script>\n",
              "      const buttonEl =\n",
              "        document.querySelector('#df-2474f5aa-040e-46d1-a1f0-9877e6e44333 button.colab-df-convert');\n",
              "      buttonEl.style.display =\n",
              "        google.colab.kernel.accessAllowed ? 'block' : 'none';\n",
              "\n",
              "      async function convertToInteractive(key) {\n",
              "        const element = document.querySelector('#df-2474f5aa-040e-46d1-a1f0-9877e6e44333');\n",
              "        const dataTable =\n",
              "          await google.colab.kernel.invokeFunction('convertToInteractive',\n",
              "                                                    [key], {});\n",
              "        if (!dataTable) return;\n",
              "\n",
              "        const docLinkHtml = 'Like what you see? Visit the ' +\n",
              "          '<a target=\"_blank\" href=https://colab.research.google.com/notebooks/data_table.ipynb>data table notebook</a>'\n",
              "          + ' to learn more about interactive tables.';\n",
              "        element.innerHTML = '';\n",
              "        dataTable['output_type'] = 'display_data';\n",
              "        await google.colab.output.renderOutput(dataTable, element);\n",
              "        const docLink = document.createElement('div');\n",
              "        docLink.innerHTML = docLinkHtml;\n",
              "        element.appendChild(docLink);\n",
              "      }\n",
              "    </script>\n",
              "  </div>\n",
              "\n",
              "\n",
              "<div id=\"df-a2ac54a8-a1fb-4dce-9f26-3d1bc127a743\">\n",
              "  <button class=\"colab-df-quickchart\" onclick=\"quickchart('df-a2ac54a8-a1fb-4dce-9f26-3d1bc127a743')\"\n",
              "            title=\"Suggest charts\"\n",
              "            style=\"display:none;\">\n",
              "\n",
              "<svg xmlns=\"http://www.w3.org/2000/svg\" height=\"24px\"viewBox=\"0 0 24 24\"\n",
              "     width=\"24px\">\n",
              "    <g>\n",
              "        <path d=\"M19 3H5c-1.1 0-2 .9-2 2v14c0 1.1.9 2 2 2h14c1.1 0 2-.9 2-2V5c0-1.1-.9-2-2-2zM9 17H7v-7h2v7zm4 0h-2V7h2v10zm4 0h-2v-4h2v4z\"/>\n",
              "    </g>\n",
              "</svg>\n",
              "  </button>\n",
              "\n",
              "<style>\n",
              "  .colab-df-quickchart {\n",
              "      --bg-color: #E8F0FE;\n",
              "      --fill-color: #1967D2;\n",
              "      --hover-bg-color: #E2EBFA;\n",
              "      --hover-fill-color: #174EA6;\n",
              "      --disabled-fill-color: #AAA;\n",
              "      --disabled-bg-color: #DDD;\n",
              "  }\n",
              "\n",
              "  [theme=dark] .colab-df-quickchart {\n",
              "      --bg-color: #3B4455;\n",
              "      --fill-color: #D2E3FC;\n",
              "      --hover-bg-color: #434B5C;\n",
              "      --hover-fill-color: #FFFFFF;\n",
              "      --disabled-bg-color: #3B4455;\n",
              "      --disabled-fill-color: #666;\n",
              "  }\n",
              "\n",
              "  .colab-df-quickchart {\n",
              "    background-color: var(--bg-color);\n",
              "    border: none;\n",
              "    border-radius: 50%;\n",
              "    cursor: pointer;\n",
              "    display: none;\n",
              "    fill: var(--fill-color);\n",
              "    height: 32px;\n",
              "    padding: 0;\n",
              "    width: 32px;\n",
              "  }\n",
              "\n",
              "  .colab-df-quickchart:hover {\n",
              "    background-color: var(--hover-bg-color);\n",
              "    box-shadow: 0 1px 2px rgba(60, 64, 67, 0.3), 0 1px 3px 1px rgba(60, 64, 67, 0.15);\n",
              "    fill: var(--button-hover-fill-color);\n",
              "  }\n",
              "\n",
              "  .colab-df-quickchart-complete:disabled,\n",
              "  .colab-df-quickchart-complete:disabled:hover {\n",
              "    background-color: var(--disabled-bg-color);\n",
              "    fill: var(--disabled-fill-color);\n",
              "    box-shadow: none;\n",
              "  }\n",
              "\n",
              "  .colab-df-spinner {\n",
              "    border: 2px solid var(--fill-color);\n",
              "    border-color: transparent;\n",
              "    border-bottom-color: var(--fill-color);\n",
              "    animation:\n",
              "      spin 1s steps(1) infinite;\n",
              "  }\n",
              "\n",
              "  @keyframes spin {\n",
              "    0% {\n",
              "      border-color: transparent;\n",
              "      border-bottom-color: var(--fill-color);\n",
              "      border-left-color: var(--fill-color);\n",
              "    }\n",
              "    20% {\n",
              "      border-color: transparent;\n",
              "      border-left-color: var(--fill-color);\n",
              "      border-top-color: var(--fill-color);\n",
              "    }\n",
              "    30% {\n",
              "      border-color: transparent;\n",
              "      border-left-color: var(--fill-color);\n",
              "      border-top-color: var(--fill-color);\n",
              "      border-right-color: var(--fill-color);\n",
              "    }\n",
              "    40% {\n",
              "      border-color: transparent;\n",
              "      border-right-color: var(--fill-color);\n",
              "      border-top-color: var(--fill-color);\n",
              "    }\n",
              "    60% {\n",
              "      border-color: transparent;\n",
              "      border-right-color: var(--fill-color);\n",
              "    }\n",
              "    80% {\n",
              "      border-color: transparent;\n",
              "      border-right-color: var(--fill-color);\n",
              "      border-bottom-color: var(--fill-color);\n",
              "    }\n",
              "    90% {\n",
              "      border-color: transparent;\n",
              "      border-bottom-color: var(--fill-color);\n",
              "    }\n",
              "  }\n",
              "</style>\n",
              "\n",
              "  <script>\n",
              "    async function quickchart(key) {\n",
              "      const quickchartButtonEl =\n",
              "        document.querySelector('#' + key + ' button');\n",
              "      quickchartButtonEl.disabled = true;  // To prevent multiple clicks.\n",
              "      quickchartButtonEl.classList.add('colab-df-spinner');\n",
              "      try {\n",
              "        const charts = await google.colab.kernel.invokeFunction(\n",
              "            'suggestCharts', [key], {});\n",
              "      } catch (error) {\n",
              "        console.error('Error during call to suggestCharts:', error);\n",
              "      }\n",
              "      quickchartButtonEl.classList.remove('colab-df-spinner');\n",
              "      quickchartButtonEl.classList.add('colab-df-quickchart-complete');\n",
              "    }\n",
              "    (() => {\n",
              "      let quickchartButtonEl =\n",
              "        document.querySelector('#df-a2ac54a8-a1fb-4dce-9f26-3d1bc127a743 button');\n",
              "      quickchartButtonEl.style.display =\n",
              "        google.colab.kernel.accessAllowed ? 'block' : 'none';\n",
              "    })();\n",
              "  </script>\n",
              "</div>\n",
              "    </div>\n",
              "  </div>\n"
            ]
          },
          "metadata": {},
          "execution_count": 24
        }
      ]
    },
    {
      "cell_type": "markdown",
      "source": [
        "**3.2 Pivoting Insurance dataset**\n",
        "\n",
        "The two pivot tables from the insurance dataset shed light on regional differences in healthcare costs and smoking rates. The average insurance costs are determined by gender and region in Pivot 1. It demonstrates that the Southwest has the lowest average charges while the Southeast has the highest average charges for both males and females. Men in the Southeast pay noticeably more than in other areas. According to Pivot 2, which counts cases by area and smoking status, the Southeast is home to the greatest concentration of smokers, whereas the Northeast and Southwest have about the same proportion of smokers and non-smokers. These charts indicate regional differences in insurance premiums that may be impacted by gender and smoking behaviour, among other things.\n"
      ],
      "metadata": {
        "id": "2UWFrD0O5LVl"
      }
    },
    {
      "cell_type": "code",
      "source": [
        "import pandas as pd\n",
        "\n",
        "# Loading the dataset\n",
        "insurance = pd.read_csv('/content/insurance.csv')\n",
        "\n",
        "# Pivot 1 - Mean Charges by Region and Gender\n",
        "pivot1 = insurance.pivot_table(index='region', columns='sex', values='charges', aggfunc='mean')\n",
        "\n",
        "# Pivot 2 - Count of Cases by Region and Smoking Status\n",
        "pivot2 = insurance.pivot_table(index='region', columns='smoker', values='charges', aggfunc='count')\n",
        "\n",
        "# Displaying the results\n",
        "print(\"Pivot 1 - Mean Charges by Region and Gender:\")\n",
        "print(pivot1)\n",
        "\n",
        "print(\"\\nPivot 2 - Count of Cases by Region and Smoking Status:\")\n",
        "print(pivot2)\n"
      ],
      "metadata": {
        "id": "VbGoc8cM5KmR",
        "colab": {
          "base_uri": "https://localhost:8080/"
        },
        "outputId": "33922003-958b-4ba1-b5a7-895c96d98db9"
      },
      "execution_count": 25,
      "outputs": [
        {
          "output_type": "stream",
          "name": "stdout",
          "text": [
            "Pivot 1 - Mean Charges by Region and Gender:\n",
            "sex              female          male\n",
            "region                               \n",
            "northeast  12953.203151  13854.005374\n",
            "northwest  12479.870397  12354.119575\n",
            "southeast  13499.669243  15879.617173\n",
            "southwest  11274.411264  13412.883576\n",
            "\n",
            "Pivot 2 - Count of Cases by Region and Smoking Status:\n",
            "smoker      no  yes\n",
            "region             \n",
            "northeast  257   67\n",
            "northwest  267   58\n",
            "southeast  273   91\n",
            "southwest  267   58\n"
          ]
        }
      ]
    },
    {
      "cell_type": "markdown",
      "source": [
        "## **4. Data Transformations**\n",
        "\n",
        "The Transformed diabetes dataset demonstrates a number of preprocessing methods used on various variables. 'Glucose_Scaled' offers a normalized perspective by standardizing glucose readings (mean 0, standard deviation 1). By binning age into three consistent categories, 'Age_Binned' condenses age into more manageable groups. 'Insulin_Log', the result of a log transformation of insulin levels, probably aids in handling skewed data. The classification of BMI into four categories—\"Underweight,\" \"Normal,\" \"Overweight,\" and \"Obese\"—makes it easier to read and analyze. The variable 'Outcome' has been transformed into a Boolean value, 'Outcome_Bool,' signifying a binary categorization that could potentially indicate the existence or non-existence of diabetes. These modifications, which normalize, simplify, and categorize important variables, improve the dataset's usefulness for statistical analysis or machine learning."
      ],
      "metadata": {
        "id": "bX8bK2gS_nn3"
      }
    },
    {
      "cell_type": "code",
      "source": [
        "import pandas as pd\n",
        "import numpy as np\n",
        "from sklearn.preprocessing import StandardScaler, KBinsDiscretizer\n",
        "\n",
        "# 1. Normalization of Glucose Levels\n",
        "scaler = StandardScaler()\n",
        "diabetes['Glucose_Scaled'] = scaler.fit_transform(diabetes[['Glucose']])\n",
        "\n",
        "# 2. Binning of Age\n",
        "age_bins = KBinsDiscretizer(n_bins=3, encode='ordinal', strategy='uniform')\n",
        "diabetes['Age_Binned'] = age_bins.fit_transform(diabetes[['Age']])\n",
        "\n",
        "# 3. Log Transformation of Insulin Levels (Adding 1 to avoid log(0))\n",
        "diabetes['Insulin_Log'] = np.log(diabetes['Insulin'] + 1)\n",
        "\n",
        "# 4. BMI Categorization\n",
        "bmi_bins = [0, 18.5, 24.9, 29.9, np.inf]\n",
        "bmi_labels = ['Underweight', 'Normal', 'Overweight', 'Obese']\n",
        "diabetes['BMI_Category'] = pd.cut(diabetes['BMI'], bins=bmi_bins, labels=bmi_labels)\n",
        "\n",
        "# 5. Encoding Outcome as a Boolean\n",
        "diabetes['Outcome_Bool'] = diabetes['Outcome'].astype(bool)\n",
        "\n",
        "# Displaying the transformed data\n",
        "diabetes.head()\n"
      ],
      "metadata": {
        "colab": {
          "base_uri": "https://localhost:8080/",
          "height": 226
        },
        "id": "tDabma2PLCHz",
        "outputId": "256423cb-5710-4102-9a0d-84deb3bb7d05"
      },
      "execution_count": 26,
      "outputs": [
        {
          "output_type": "execute_result",
          "data": {
            "text/plain": [
              "   Pregnancies  Glucose  BloodPressure  SkinThickness  Insulin   BMI  \\\n",
              "0            6      148             72             35        0  33.6   \n",
              "1            1       85             66             29        0  26.6   \n",
              "2            8      183             64              0        0  23.3   \n",
              "3            1       89             66             23       94  28.1   \n",
              "4            0      137             40             35      168  43.1   \n",
              "\n",
              "   DiabetesPedigreeFunction  Age  Outcome  Glucose_Scaled  Age_Binned  \\\n",
              "0                     0.627   50        1        0.848324         1.0   \n",
              "1                     0.351   31        0       -1.123396         0.0   \n",
              "2                     0.672   32        1        1.943724         0.0   \n",
              "3                     0.167   21        0       -0.998208         0.0   \n",
              "4                     2.288   33        1        0.504055         0.0   \n",
              "\n",
              "   Insulin_Log BMI_Category  Outcome_Bool  \n",
              "0     0.000000        Obese          True  \n",
              "1     0.000000   Overweight         False  \n",
              "2     0.000000       Normal          True  \n",
              "3     4.553877   Overweight         False  \n",
              "4     5.129899        Obese          True  "
            ],
            "text/html": [
              "\n",
              "  <div id=\"df-44591442-8489-47a2-a426-4d09fa923b62\" class=\"colab-df-container\">\n",
              "    <div>\n",
              "<style scoped>\n",
              "    .dataframe tbody tr th:only-of-type {\n",
              "        vertical-align: middle;\n",
              "    }\n",
              "\n",
              "    .dataframe tbody tr th {\n",
              "        vertical-align: top;\n",
              "    }\n",
              "\n",
              "    .dataframe thead th {\n",
              "        text-align: right;\n",
              "    }\n",
              "</style>\n",
              "<table border=\"1\" class=\"dataframe\">\n",
              "  <thead>\n",
              "    <tr style=\"text-align: right;\">\n",
              "      <th></th>\n",
              "      <th>Pregnancies</th>\n",
              "      <th>Glucose</th>\n",
              "      <th>BloodPressure</th>\n",
              "      <th>SkinThickness</th>\n",
              "      <th>Insulin</th>\n",
              "      <th>BMI</th>\n",
              "      <th>DiabetesPedigreeFunction</th>\n",
              "      <th>Age</th>\n",
              "      <th>Outcome</th>\n",
              "      <th>Glucose_Scaled</th>\n",
              "      <th>Age_Binned</th>\n",
              "      <th>Insulin_Log</th>\n",
              "      <th>BMI_Category</th>\n",
              "      <th>Outcome_Bool</th>\n",
              "    </tr>\n",
              "  </thead>\n",
              "  <tbody>\n",
              "    <tr>\n",
              "      <th>0</th>\n",
              "      <td>6</td>\n",
              "      <td>148</td>\n",
              "      <td>72</td>\n",
              "      <td>35</td>\n",
              "      <td>0</td>\n",
              "      <td>33.6</td>\n",
              "      <td>0.627</td>\n",
              "      <td>50</td>\n",
              "      <td>1</td>\n",
              "      <td>0.848324</td>\n",
              "      <td>1.0</td>\n",
              "      <td>0.000000</td>\n",
              "      <td>Obese</td>\n",
              "      <td>True</td>\n",
              "    </tr>\n",
              "    <tr>\n",
              "      <th>1</th>\n",
              "      <td>1</td>\n",
              "      <td>85</td>\n",
              "      <td>66</td>\n",
              "      <td>29</td>\n",
              "      <td>0</td>\n",
              "      <td>26.6</td>\n",
              "      <td>0.351</td>\n",
              "      <td>31</td>\n",
              "      <td>0</td>\n",
              "      <td>-1.123396</td>\n",
              "      <td>0.0</td>\n",
              "      <td>0.000000</td>\n",
              "      <td>Overweight</td>\n",
              "      <td>False</td>\n",
              "    </tr>\n",
              "    <tr>\n",
              "      <th>2</th>\n",
              "      <td>8</td>\n",
              "      <td>183</td>\n",
              "      <td>64</td>\n",
              "      <td>0</td>\n",
              "      <td>0</td>\n",
              "      <td>23.3</td>\n",
              "      <td>0.672</td>\n",
              "      <td>32</td>\n",
              "      <td>1</td>\n",
              "      <td>1.943724</td>\n",
              "      <td>0.0</td>\n",
              "      <td>0.000000</td>\n",
              "      <td>Normal</td>\n",
              "      <td>True</td>\n",
              "    </tr>\n",
              "    <tr>\n",
              "      <th>3</th>\n",
              "      <td>1</td>\n",
              "      <td>89</td>\n",
              "      <td>66</td>\n",
              "      <td>23</td>\n",
              "      <td>94</td>\n",
              "      <td>28.1</td>\n",
              "      <td>0.167</td>\n",
              "      <td>21</td>\n",
              "      <td>0</td>\n",
              "      <td>-0.998208</td>\n",
              "      <td>0.0</td>\n",
              "      <td>4.553877</td>\n",
              "      <td>Overweight</td>\n",
              "      <td>False</td>\n",
              "    </tr>\n",
              "    <tr>\n",
              "      <th>4</th>\n",
              "      <td>0</td>\n",
              "      <td>137</td>\n",
              "      <td>40</td>\n",
              "      <td>35</td>\n",
              "      <td>168</td>\n",
              "      <td>43.1</td>\n",
              "      <td>2.288</td>\n",
              "      <td>33</td>\n",
              "      <td>1</td>\n",
              "      <td>0.504055</td>\n",
              "      <td>0.0</td>\n",
              "      <td>5.129899</td>\n",
              "      <td>Obese</td>\n",
              "      <td>True</td>\n",
              "    </tr>\n",
              "  </tbody>\n",
              "</table>\n",
              "</div>\n",
              "    <div class=\"colab-df-buttons\">\n",
              "\n",
              "  <div class=\"colab-df-container\">\n",
              "    <button class=\"colab-df-convert\" onclick=\"convertToInteractive('df-44591442-8489-47a2-a426-4d09fa923b62')\"\n",
              "            title=\"Convert this dataframe to an interactive table.\"\n",
              "            style=\"display:none;\">\n",
              "\n",
              "  <svg xmlns=\"http://www.w3.org/2000/svg\" height=\"24px\" viewBox=\"0 -960 960 960\">\n",
              "    <path d=\"M120-120v-720h720v720H120Zm60-500h600v-160H180v160Zm220 220h160v-160H400v160Zm0 220h160v-160H400v160ZM180-400h160v-160H180v160Zm440 0h160v-160H620v160ZM180-180h160v-160H180v160Zm440 0h160v-160H620v160Z\"/>\n",
              "  </svg>\n",
              "    </button>\n",
              "\n",
              "  <style>\n",
              "    .colab-df-container {\n",
              "      display:flex;\n",
              "      gap: 12px;\n",
              "    }\n",
              "\n",
              "    .colab-df-convert {\n",
              "      background-color: #E8F0FE;\n",
              "      border: none;\n",
              "      border-radius: 50%;\n",
              "      cursor: pointer;\n",
              "      display: none;\n",
              "      fill: #1967D2;\n",
              "      height: 32px;\n",
              "      padding: 0 0 0 0;\n",
              "      width: 32px;\n",
              "    }\n",
              "\n",
              "    .colab-df-convert:hover {\n",
              "      background-color: #E2EBFA;\n",
              "      box-shadow: 0px 1px 2px rgba(60, 64, 67, 0.3), 0px 1px 3px 1px rgba(60, 64, 67, 0.15);\n",
              "      fill: #174EA6;\n",
              "    }\n",
              "\n",
              "    .colab-df-buttons div {\n",
              "      margin-bottom: 4px;\n",
              "    }\n",
              "\n",
              "    [theme=dark] .colab-df-convert {\n",
              "      background-color: #3B4455;\n",
              "      fill: #D2E3FC;\n",
              "    }\n",
              "\n",
              "    [theme=dark] .colab-df-convert:hover {\n",
              "      background-color: #434B5C;\n",
              "      box-shadow: 0px 1px 3px 1px rgba(0, 0, 0, 0.15);\n",
              "      filter: drop-shadow(0px 1px 2px rgba(0, 0, 0, 0.3));\n",
              "      fill: #FFFFFF;\n",
              "    }\n",
              "  </style>\n",
              "\n",
              "    <script>\n",
              "      const buttonEl =\n",
              "        document.querySelector('#df-44591442-8489-47a2-a426-4d09fa923b62 button.colab-df-convert');\n",
              "      buttonEl.style.display =\n",
              "        google.colab.kernel.accessAllowed ? 'block' : 'none';\n",
              "\n",
              "      async function convertToInteractive(key) {\n",
              "        const element = document.querySelector('#df-44591442-8489-47a2-a426-4d09fa923b62');\n",
              "        const dataTable =\n",
              "          await google.colab.kernel.invokeFunction('convertToInteractive',\n",
              "                                                    [key], {});\n",
              "        if (!dataTable) return;\n",
              "\n",
              "        const docLinkHtml = 'Like what you see? Visit the ' +\n",
              "          '<a target=\"_blank\" href=https://colab.research.google.com/notebooks/data_table.ipynb>data table notebook</a>'\n",
              "          + ' to learn more about interactive tables.';\n",
              "        element.innerHTML = '';\n",
              "        dataTable['output_type'] = 'display_data';\n",
              "        await google.colab.output.renderOutput(dataTable, element);\n",
              "        const docLink = document.createElement('div');\n",
              "        docLink.innerHTML = docLinkHtml;\n",
              "        element.appendChild(docLink);\n",
              "      }\n",
              "    </script>\n",
              "  </div>\n",
              "\n",
              "\n",
              "<div id=\"df-1b54e85e-20c6-4cd9-850a-182acd712ec4\">\n",
              "  <button class=\"colab-df-quickchart\" onclick=\"quickchart('df-1b54e85e-20c6-4cd9-850a-182acd712ec4')\"\n",
              "            title=\"Suggest charts\"\n",
              "            style=\"display:none;\">\n",
              "\n",
              "<svg xmlns=\"http://www.w3.org/2000/svg\" height=\"24px\"viewBox=\"0 0 24 24\"\n",
              "     width=\"24px\">\n",
              "    <g>\n",
              "        <path d=\"M19 3H5c-1.1 0-2 .9-2 2v14c0 1.1.9 2 2 2h14c1.1 0 2-.9 2-2V5c0-1.1-.9-2-2-2zM9 17H7v-7h2v7zm4 0h-2V7h2v10zm4 0h-2v-4h2v4z\"/>\n",
              "    </g>\n",
              "</svg>\n",
              "  </button>\n",
              "\n",
              "<style>\n",
              "  .colab-df-quickchart {\n",
              "      --bg-color: #E8F0FE;\n",
              "      --fill-color: #1967D2;\n",
              "      --hover-bg-color: #E2EBFA;\n",
              "      --hover-fill-color: #174EA6;\n",
              "      --disabled-fill-color: #AAA;\n",
              "      --disabled-bg-color: #DDD;\n",
              "  }\n",
              "\n",
              "  [theme=dark] .colab-df-quickchart {\n",
              "      --bg-color: #3B4455;\n",
              "      --fill-color: #D2E3FC;\n",
              "      --hover-bg-color: #434B5C;\n",
              "      --hover-fill-color: #FFFFFF;\n",
              "      --disabled-bg-color: #3B4455;\n",
              "      --disabled-fill-color: #666;\n",
              "  }\n",
              "\n",
              "  .colab-df-quickchart {\n",
              "    background-color: var(--bg-color);\n",
              "    border: none;\n",
              "    border-radius: 50%;\n",
              "    cursor: pointer;\n",
              "    display: none;\n",
              "    fill: var(--fill-color);\n",
              "    height: 32px;\n",
              "    padding: 0;\n",
              "    width: 32px;\n",
              "  }\n",
              "\n",
              "  .colab-df-quickchart:hover {\n",
              "    background-color: var(--hover-bg-color);\n",
              "    box-shadow: 0 1px 2px rgba(60, 64, 67, 0.3), 0 1px 3px 1px rgba(60, 64, 67, 0.15);\n",
              "    fill: var(--button-hover-fill-color);\n",
              "  }\n",
              "\n",
              "  .colab-df-quickchart-complete:disabled,\n",
              "  .colab-df-quickchart-complete:disabled:hover {\n",
              "    background-color: var(--disabled-bg-color);\n",
              "    fill: var(--disabled-fill-color);\n",
              "    box-shadow: none;\n",
              "  }\n",
              "\n",
              "  .colab-df-spinner {\n",
              "    border: 2px solid var(--fill-color);\n",
              "    border-color: transparent;\n",
              "    border-bottom-color: var(--fill-color);\n",
              "    animation:\n",
              "      spin 1s steps(1) infinite;\n",
              "  }\n",
              "\n",
              "  @keyframes spin {\n",
              "    0% {\n",
              "      border-color: transparent;\n",
              "      border-bottom-color: var(--fill-color);\n",
              "      border-left-color: var(--fill-color);\n",
              "    }\n",
              "    20% {\n",
              "      border-color: transparent;\n",
              "      border-left-color: var(--fill-color);\n",
              "      border-top-color: var(--fill-color);\n",
              "    }\n",
              "    30% {\n",
              "      border-color: transparent;\n",
              "      border-left-color: var(--fill-color);\n",
              "      border-top-color: var(--fill-color);\n",
              "      border-right-color: var(--fill-color);\n",
              "    }\n",
              "    40% {\n",
              "      border-color: transparent;\n",
              "      border-right-color: var(--fill-color);\n",
              "      border-top-color: var(--fill-color);\n",
              "    }\n",
              "    60% {\n",
              "      border-color: transparent;\n",
              "      border-right-color: var(--fill-color);\n",
              "    }\n",
              "    80% {\n",
              "      border-color: transparent;\n",
              "      border-right-color: var(--fill-color);\n",
              "      border-bottom-color: var(--fill-color);\n",
              "    }\n",
              "    90% {\n",
              "      border-color: transparent;\n",
              "      border-bottom-color: var(--fill-color);\n",
              "    }\n",
              "  }\n",
              "</style>\n",
              "\n",
              "  <script>\n",
              "    async function quickchart(key) {\n",
              "      const quickchartButtonEl =\n",
              "        document.querySelector('#' + key + ' button');\n",
              "      quickchartButtonEl.disabled = true;  // To prevent multiple clicks.\n",
              "      quickchartButtonEl.classList.add('colab-df-spinner');\n",
              "      try {\n",
              "        const charts = await google.colab.kernel.invokeFunction(\n",
              "            'suggestCharts', [key], {});\n",
              "      } catch (error) {\n",
              "        console.error('Error during call to suggestCharts:', error);\n",
              "      }\n",
              "      quickchartButtonEl.classList.remove('colab-df-spinner');\n",
              "      quickchartButtonEl.classList.add('colab-df-quickchart-complete');\n",
              "    }\n",
              "    (() => {\n",
              "      let quickchartButtonEl =\n",
              "        document.querySelector('#df-1b54e85e-20c6-4cd9-850a-182acd712ec4 button');\n",
              "      quickchartButtonEl.style.display =\n",
              "        google.colab.kernel.accessAllowed ? 'block' : 'none';\n",
              "    })();\n",
              "  </script>\n",
              "</div>\n",
              "    </div>\n",
              "  </div>\n"
            ]
          },
          "metadata": {},
          "execution_count": 26
        }
      ]
    },
    {
      "cell_type": "markdown",
      "source": [
        "## **5. Comprehensive Analysis and Data visualizations of Smoking's Impact on Health Metrics, Diabetes Prevalence, and Insurance Costs**"
      ],
      "metadata": {
        "id": "j_LfrsFT1Q2Q"
      }
    },
    {
      "cell_type": "markdown",
      "source": [
        "The contingency table that was created from the combined data had a chi-square statistic of 0.0 and a p-value of 1.0, according to the results of the chi-square test. This suggests that, in this specific dataset, there is no statistically significant association between the presence of diabetes and smoking status. The null hypothesis, which asserts that there is no link between the two variables, cannot be rejected because the p-value is significantly greater than the alpha threshold of 0.05. Accordingly, smoking status does not seem to be a factor that distinguishes between the examined sample's persons with and without diabetes based on the results of this test. To guarantee the validity of the test results, a p-value of 1.0 is extremely exceptional and usually calls for additional research into the data and methods."
      ],
      "metadata": {
        "id": "xxdPJ8kDg7fd"
      }
    },
    {
      "cell_type": "code",
      "source": [
        "import pandas as pd\n",
        "from scipy.stats import chi2_contingency\n",
        "\n",
        "# Assuming 'merged_data'\n",
        "# Creating a contingency table\n",
        "contingency_table = pd.crosstab(merged_data['smoker'], merged_data['Outcome'])\n",
        "\n",
        "# Performing the chi-square test\n",
        "chi2, p, _, _ = chi2_contingency(contingency_table)\n",
        "\n",
        "# Printing the chi-square statistic and p-value\n",
        "print(f\"Chi-square statistic: {chi2}\")\n",
        "print(f\"P-value: {p}\")\n",
        "\n",
        "# Checking the significance level\n",
        "alpha = 0.05\n",
        "if p < alpha:\n",
        "    print(\"The relationship between smoking status and diabetes is statistically significant.\")\n",
        "else:\n",
        "    print(\"There is no significant relationship between smoking status and diabetes.\")"
      ],
      "metadata": {
        "id": "fZEvrjmCg77D",
        "colab": {
          "base_uri": "https://localhost:8080/"
        },
        "outputId": "a15b2f8b-f908-4a00-ccb5-8a6a1d7bfc78"
      },
      "execution_count": 27,
      "outputs": [
        {
          "output_type": "stream",
          "name": "stdout",
          "text": [
            "Chi-square statistic: 0.0\n",
            "P-value: 1.0\n",
            "There is no significant relationship between smoking status and diabetes.\n"
          ]
        }
      ]
    },
    {
      "cell_type": "markdown",
      "source": [
        "**5.1 How does smoking affect BMI (Body Mass Index)?**\n",
        "\n",
        "The Body Mass Index (BMI) distribution between smokers and non-smokers is shown in the boxplot. There appears to be less variability in BMI values among non-smokers, as seen by their slightly higher median BMI and shorter interquartile range. A greater interquartile range indicates that BMI values vary more widely among smokers. However, Smoking's complicated affects on BMI can be attributed to a number of variables, such as genetic predispositions, metabolism, nutrition, and way of life. Generally, studies have revealed that non-smokers may have a higher average BMI than smokers."
      ],
      "metadata": {
        "id": "TkWs6_PrhBsx"
      }
    },
    {
      "cell_type": "code",
      "source": [
        "import matplotlib.pyplot as plt\n",
        "import seaborn as sns\n",
        "\n",
        "# Assuming 'merged_data'\n",
        "plt.figure(figsize=(10, 6))\n",
        "\n",
        "# Creating a boxplot\n",
        "sns.boxplot(x='smoker', y='BMI', data=merged_data)\n",
        "\n",
        "# Adding labels and title\n",
        "plt.title('BMI Distribution for Smokers and Non-Smokers')\n",
        "plt.xlabel('Smoker')\n",
        "plt.ylabel('BMI')\n",
        "\n",
        "# Showing the plot\n",
        "plt.show()"
      ],
      "metadata": {
        "id": "QNjbEi_3hCIM",
        "colab": {
          "base_uri": "https://localhost:8080/",
          "height": 564
        },
        "outputId": "5320910a-54fc-4584-9994-7016ad42dd95"
      },
      "execution_count": 28,
      "outputs": [
        {
          "output_type": "display_data",
          "data": {
            "text/plain": [
              "<Figure size 1000x600 with 1 Axes>"
            ],
            "image/png": "[encoded data removed]"
          },
          "metadata": {}
        }
      ]
    },
    {
      "cell_type": "markdown",
      "source": [
        "**5.2 Are smokers more likely to have higher insurance charges by T-Statistics?**\n",
        "\n",
        "It is indeed statistically significant that insurance costs differ for smokers and non-smokers, according to the T-statistic from the independent t-test, which is 6.362607949051859. Smokers may pay more on average for insurance than non-smokers, according to the T-statistic's positive value, which indicates this. It is exceedingly unlikely that the observed difference in insurance charges happened by chance, as indicated by the very low p-value (1.1648258671803034e-06) that supports this finding. Smokers will therefore most likely pay more for insurance, according to this statistical test."
      ],
      "metadata": {
        "id": "vNsKQWO9hcKv"
      }
    },
    {
      "cell_type": "code",
      "source": [
        "import scipy.stats as stats\n",
        "\n",
        "# Assuming 'merged_data'\n",
        "insurance_charges_smoker = merged_data[merged_data['smoker'] == 'yes']['charges']\n",
        "insurance_charges_non_smoker = merged_data[merged_data['smoker'] == 'no']['charges']\n",
        "\n",
        "# Performing independent t-test\n",
        "t_stat, p_value = stats.ttest_ind(insurance_charges_smoker, insurance_charges_non_smoker)\n",
        "\n",
        "# Printing the t-statistic and p-value\n",
        "print(f\"T-statistic: {t_stat}\")\n",
        "print(f\"P-value: {p_value}\")\n",
        "\n",
        "# Checking the significance level\n",
        "alpha = 0.05\n",
        "if p_value < alpha:\n",
        "    print(\"There is a significant difference in insurance charges between smokers and non-smokers.\")\n",
        "else:\n",
        "    print(\"There is no significant difference in insurance charges between smokers and non-smokers.\")\n"
      ],
      "metadata": {
        "id": "7Lql_NqHhctk",
        "colab": {
          "base_uri": "https://localhost:8080/"
        },
        "outputId": "986e9c1f-880c-4fc9-9f6a-b4c575bbd58c"
      },
      "execution_count": 29,
      "outputs": [
        {
          "output_type": "stream",
          "name": "stdout",
          "text": [
            "T-statistic: 6.362607949051859\n",
            "P-value: 1.1648258671803034e-06\n",
            "There is a significant difference in insurance charges between smokers and non-smokers.\n"
          ]
        }
      ]
    },
    {
      "cell_type": "markdown",
      "source": [
        "**5.3 Are smokers more likely to have higher insurance charges by Mann-Whitney U Statistic?**\n",
        "\n",
        "Yes, smokers are more likely to have greater insurance costs, according to the Mann-Whitney U test. The test yielded a U statistic of 89.0 and a p-value of  0.0037177418742498918. It is employed when data do not fulfill the assumptions needed for a t-test. The statistical significance of the difference in insurance charges between smokers and non-smokers is demonstrated by the p-value, which is below the standard significance level of 0.05. Within the dataset under analysis, the findings corroborate the notion that smokers often face greater insurance costs than non-smokers.\n"
      ],
      "metadata": {
        "id": "gQyP2V6ehxBw"
      }
    },
    {
      "cell_type": "code",
      "source": [
        "import scipy.stats as stats\n",
        "\n",
        "# Assuming 'merged_data'\n",
        "insurance_charges_smoker = merged_data[merged_data['smoker'] == 'yes']['charges']\n",
        "insurance_charges_non_smoker = merged_data[merged_data['smoker'] == 'no']['charges']\n",
        "\n",
        "# Performing Mann-Whitney U test\n",
        "u_stat, p_value = stats.mannwhitneyu(insurance_charges_smoker, insurance_charges_non_smoker)\n",
        "\n",
        "# Printing the U statistic and p-value\n",
        "print(f\"Mann-Whitney U statistic: {u_stat}\")\n",
        "print(f\"P-value: {p_value}\")\n",
        "\n",
        "# Checking the significance level\n",
        "alpha = 0.05\n",
        "if p_value < alpha:\n",
        "    print(\"There is a significant difference in insurance charges between smokers and non-smokers.\")\n",
        "else:\n",
        "    print(\"There is no significant difference in insurance charges between smokers and non-smokers.\")\n",
        "\n"
      ],
      "metadata": {
        "id": "N-hLOholhxUM",
        "colab": {
          "base_uri": "https://localhost:8080/"
        },
        "outputId": "115f4307-d4d6-40e8-af1a-69ab390f1810"
      },
      "execution_count": 30,
      "outputs": [
        {
          "output_type": "stream",
          "name": "stdout",
          "text": [
            "Mann-Whitney U statistic: 89.0\n",
            "P-value: 0.0037177418742498918\n",
            "There is a significant difference in insurance charges between smokers and non-smokers.\n"
          ]
        }
      ]
    },
    {
      "cell_type": "markdown",
      "source": [
        "**5.4 Does the smoking impact vary across different age groups?**\n",
        "\n",
        "\n",
        "The bar chart does, in fact, seem to indicate that smoking has different effects on different age groups. The proportions of smokers and non-smokers are highest in the younger age group (18–30 years old), with the former group being bigger than the latter. As people age, the proportion of smokers in both age groups decreases, with the 30-to 40-year-old age group showing a significantly higher smoking ratio than the other age groups. The pattern suggests that middle-aged people may smoke more frequently than younger or older demographics. The percentage of smokers and non-smokers over fifty is noticeably declining. Numerous factors could be at play here, including changes in smoking habits throughout history or the harmful effects of smoking on one's health.\n"
      ],
      "metadata": {
        "id": "9VrArsYwiAsc"
      }
    },
    {
      "cell_type": "code",
      "source": [
        "import matplotlib.pyplot as plt\n",
        "import seaborn as sns\n",
        "\n",
        "# Assuming 'merged_data'\n",
        "# Creating age groups (adjusting the bins as needed)\n",
        "bins = [18, 30, 40, 50, 60, 70, 80, 90, 100]\n",
        "merged_data['age_group'] = pd.cut(merged_data['Age'], bins=bins, labels=[f'{i}-{j}' for i, j in zip(bins[:-1], bins[1:])])\n",
        "\n",
        "plt.figure(figsize=(12, 8))\n",
        "\n",
        "# Creating a grouped bar chart\n",
        "sns.countplot(x='age_group', hue='smoker', data=merged_data, palette='viridis')\n",
        "\n",
        "# Adding labels and title\n",
        "plt.title('Distribution of Smokers and Non-Smokers Across Age Groups')\n",
        "plt.xlabel('Age Group')\n",
        "plt.ylabel('Count')\n",
        "\n",
        "# Showing the legend\n",
        "plt.legend(title='Smoker', loc='upper right')\n",
        "\n",
        "# Showing the plot\n",
        "plt.show()"
      ],
      "metadata": {
        "id": "qi9dH7JPiBAQ",
        "colab": {
          "base_uri": "https://localhost:8080/",
          "height": 679
        },
        "outputId": "bdba838e-a8c5-4bd9-b8ed-7f3c26a71c04"
      },
      "execution_count": 31,
      "outputs": [
        {
          "output_type": "display_data",
          "data": {
            "text/plain": [
              "<Figure size 1200x800 with 1 Axes>"
            ],
            "image/png": "[encoded data removed]"
          },
          "metadata": {}
        }
      ]
    },
    {
      "cell_type": "markdown",
      "source": [
        "**5.5 Creating a bar chart showing the proportion of individuals with diabetes based on smoking status. This helps visually compare the impact of smoking on diabetes.**\n",
        "\n",
        "The percentage of diabetics divided by smoking status is displayed in the bar graph. Non-smokers are represented by the left bar (blue), and smokers are represented by the right bar (orange). From the height of the bars, it is evident that smokers have a slightly larger percentage of people with diabetes than do non-smokers. This graphic aids in comparing the two groups' diabetes prevalence rates and raises the possibility that smoking is linked to a higher incidence of the disease. It is imperative to acknowledge that this analysis is univariate in nature, meaning it ignores additional variables that could potentially impact the result. To prove a stronger connection between smoking and diabetes, a multivariate approach would be needed."
      ],
      "metadata": {
        "id": "PiOPo3GDkJJ0"
      }
    },
    {
      "cell_type": "code",
      "source": [
        "import matplotlib.pyplot as plt\n",
        "import seaborn as sns\n",
        "\n",
        "# Assuming 'merged_data'\n",
        "plt.figure(figsize=(10, 6))\n",
        "\n",
        "# Calculating the proportion of individuals with diabetes based on smoking status\n",
        "diabetes_proportion = merged_data.groupby('smoker')['Outcome'].mean().reset_index()\n",
        "\n",
        "# Creating a bar chart\n",
        "sns.barplot(x='smoker', y='Outcome', data=diabetes_proportion, palette='muted')\n",
        "\n",
        "# Adding labels and title\n",
        "plt.title('Proportion of Individuals with Diabetes Based on Smoking Status')\n",
        "plt.xlabel('Smoker')\n",
        "plt.ylabel('Proportion with Diabetes')\n",
        "\n",
        "# Showing the plot\n",
        "plt.show()"
      ],
      "metadata": {
        "id": "bqRMr9-MklTG",
        "colab": {
          "base_uri": "https://localhost:8080/",
          "height": 564
        },
        "outputId": "882550ac-8798-49ab-d4b0-63896253981e"
      },
      "execution_count": 32,
      "outputs": [
        {
          "output_type": "display_data",
          "data": {
            "text/plain": [
              "<Figure size 1000x600 with 1 Axes>"
            ],
            "image/png": "[encoded data removed]"
          },
          "metadata": {}
        }
      ]
    },
    {
      "cell_type": "markdown",
      "source": [
        "**5.6 Creating a scatter plot with age on the x-axis, insurance charges on the y-axis, and differentiating points by smoking status. This helps visualize how smoking influences charges across age groups.**\n",
        "\n",
        "While differentiating between smokers and non-smokers, the scatter plot shows the correlation between age and insurance costs. The graphic shows that insurance costs are often greater for smokers (shown by the orange dots) than for non-smokers (shown by the blue points) in all age categories. Because of the narrow age range that is depicted or other factors that are not taken into consideration in the plot, the distribution of points within the smokers and non-smokers group does not clearly reflect an age-related pattern. Still, the scatter plot provides a visual confirmation that smoking has a major influence on insurance costs by showing that a smoker's status is linked to higher insurance costs."
      ],
      "metadata": {
        "id": "hl6i95voksHh"
      }
    },
    {
      "cell_type": "code",
      "source": [
        "plt.figure(figsize=(12, 8))\n",
        "\n",
        "# Creating a scatter plot\n",
        "sns.scatterplot(x='Age', y='charges', hue='smoker', data=merged_data, palette='coolwarm', alpha=0.7)\n",
        "\n",
        "# Adding labels and title\n",
        "plt.title('Scatter Plot: Age vs. Insurance Charges (Differentiated by Smoking Status)')\n",
        "plt.xlabel('Age')\n",
        "plt.ylabel('Insurance Charges')\n",
        "\n",
        "# Showing the legend\n",
        "plt.legend(title='Smoker', loc='upper right')\n",
        "\n",
        "# Showing the plot\n",
        "plt.show()\n"
      ],
      "metadata": {
        "id": "z5fSXQi5ksW2",
        "colab": {
          "base_uri": "https://localhost:8080/",
          "height": 662
        },
        "outputId": "6141aa5a-e598-45f3-8d50-2b6491faa897"
      },
      "execution_count": 33,
      "outputs": [
        {
          "output_type": "display_data",
          "data": {
            "text/plain": [
              "<Figure size 1200x800 with 1 Axes>"
            ],
            "image/png": "[encoded data removed]"
          },
          "metadata": {}
        }
      ]
    },
    {
      "cell_type": "markdown",
      "source": [
        "**5.7 Regression Analysis**"
      ],
      "metadata": {
        "id": "2mwP9AJg69Rd"
      }
    },
    {
      "cell_type": "markdown",
      "source": [
        "According to the results of the regression study, smoking status is a strong predictor of insurance costs, with smokers paying significantly more than non-smokers. Additionally, age positively correlates with insurance premiums, indicating that expenses rise with age; however, this relationship is not statistically significant at the 5% level. The impact of BMI is likewise favorable but not very strong. A significant amount (about 70.6%) of the variation in insurance costs may be explained by the model. The residuals, according to tests for normality, are not normally distributed, which could have an impact on how reliable the model's predictions are. These findings highlight the significant impact of smoking on insurance premiums, which is unaffected by age or BMI."
      ],
      "metadata": {
        "id": "hWC9TXrYmaKN"
      }
    },
    {
      "cell_type": "code",
      "source": [
        "import statsmodels.api as sm\n",
        "\n",
        "# Assuming 'merged_data'\n",
        "# Converting 'smoker' to numerical values (1 for 'yes', 0 for 'no')\n",
        "merged_data['smoker_numeric'] = merged_data['smoker'].apply(lambda x: 1 if x == 'yes' else 0)\n",
        "\n",
        "# Selecting independent variables (age, BMI, smoker_numeric)\n",
        "X = merged_data[['Age', 'BMI', 'smoker_numeric']]\n",
        "\n",
        "# Adding a constant to the independent variables\n",
        "X = sm.add_constant(X)\n",
        "\n",
        "y = merged_data['charges']\n",
        "\n",
        "# Fitting the regression model\n",
        "model = sm.OLS(y, X).fit()\n",
        "\n",
        "# Displaying the regression results\n",
        "print(model.summary())"
      ],
      "metadata": {
        "id": "lSct6l0DmaVG",
        "colab": {
          "base_uri": "https://localhost:8080/"
        },
        "outputId": "40d9f584-a1b4-4244-bd44-d7cd14f59827"
      },
      "execution_count": 34,
      "outputs": [
        {
          "output_type": "stream",
          "name": "stdout",
          "text": [
            "                            OLS Regression Results                            \n",
            "==============================================================================\n",
            "Dep. Variable:                charges   R-squared:                       0.706\n",
            "Model:                            OLS   Adj. R-squared:                  0.667\n",
            "Method:                 Least Squares   F-statistic:                     18.40\n",
            "Date:                Sat, 16 Dec 2023   Prob (F-statistic):           2.61e-06\n",
            "Time:                        21:39:27   Log-Likelihood:                -264.63\n",
            "No. Observations:                  27   AIC:                             537.3\n",
            "Df Residuals:                      23   BIC:                             542.4\n",
            "Df Model:                           3                                         \n",
            "Covariance Type:            nonrobust                                         \n",
            "==================================================================================\n",
            "                     coef    std err          t      P>|t|      [0.025      0.975]\n",
            "----------------------------------------------------------------------------------\n",
            "const          -9914.6804   7371.778     -1.345      0.192   -2.52e+04    5335.003\n",
            "Age              224.6793    110.546      2.032      0.054      -4.003     453.362\n",
            "BMI              286.9178    239.699      1.197      0.244    -208.937     782.772\n",
            "smoker_numeric  1.851e+04   2582.696      7.167      0.000    1.32e+04    2.39e+04\n",
            "==============================================================================\n",
            "Omnibus:                       32.791   Durbin-Watson:                   2.143\n",
            "Prob(Omnibus):                  0.000   Jarque-Bera (JB):               72.656\n",
            "Skew:                           2.542   Prob(JB):                     1.67e-16\n",
            "Kurtosis:                       9.224   Cond. No.                         372.\n",
            "==============================================================================\n",
            "\n",
            "Notes:\n",
            "[1] Standard Errors assume that the covariance matrix of the errors is correctly specified.\n"
          ]
        }
      ]
    },
    {
      "cell_type": "markdown",
      "source": [
        "## **6. Conclusion**\n",
        "\n",
        "Concluding this With regard to insurance prices and the prevalence of diabetes, in particular, this extensive final research has effectively brought to light the complex links between smoking status, BMI, health outcomes, and cost implications.\n",
        "\n",
        "\n",
        "**Variations in BMI Between Smokers and Non-Smokers:** The study found that there was a statistically significant variation between the BMIs of smokers and non-smokers, highlighting the complex effects of smoking on body weight.\n",
        "\n",
        "\n",
        "**Diabetic Prediction and Smoking:** The analysis did not uncover a statistically significant correlation between the existence of diabetes and smoking status after controlling for age and BMI. This result implies that the prevalence of diabetes might be more heavily influenced by other factors.\n",
        "\n",
        "\n",
        "**Financial Impact of Smoking on Health Insurance:** Smokers typically pay greater health insurance rates than non-smokers, according to the results of the Mann-Whitney U test and the T-statistic. This research emphasizes how smoking has a significant financial cost to people in addition to health consequences.\n",
        "\n",
        "\n",
        "**Smoking Incidence Across Age Groups:** Research on age-related smoking patterns revealed that smoking prevalence varies with age, which has an impact on health outcomes and insurance expenditures. In particular, those in their middle years demonstrated a greater inclination to smoke.\n",
        "\n",
        "**Data Visualization and Analysis techniques:** To clearly understand the data, the project made excellent use of a variety of data visualization techniques, including bar charts and scatter plots. Understanding the percentage of diabetes among smokers and non-smokers, as well as the connection between age, insurance costs and smoking status, was made easier by these visuals.\n",
        "\n",
        "\n",
        "**Regression Analysis Insights:** Regression analysis showed that, regardless of age or BMI, smoking is a strong predictor of increased insurance costs. When creating healthcare interventions and programs to help people quit smoking, health policy experts must take this conclusion into account.\n",
        "\n",
        "\n",
        "**Implications for Policy and Health:** The results of this study play a significant role in helping professionals in the fields of health and policy recognize and address the negative effects of smoking on one's health and finances. It promotes the benefits of focused medical therapies and programs for quitting smoking.\n",
        "\n",
        "And lastly, by highlighting the complex effects of smoking on both personal health and financial security, our initiative adds significant knowledge to the field of health data science. Informed decision-making is facilitated by it when it comes to both individual and public health policies.\n"
      ],
      "metadata": {
        "id": "ye9viWII0_As"
      }
    }
  ]
}