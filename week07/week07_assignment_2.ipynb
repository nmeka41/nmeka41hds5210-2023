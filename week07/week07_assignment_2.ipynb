{
  "cells": [
    {
      "cell_type": "markdown",
      "metadata": {
        "id": "o19eSfc5ztDi"
      },
      "source": [
        "# Week 7 Assignment\n",
        "\n",
        "We've been working with different types of data structures in Python (dictionary, list, etc), how those are represented in JSON documents, and how to write code to access specific data elements. In this week's assignment, you will need to create your own JSON document to store information about yourself and the grades you've received from week 1 to week 4 and the week 6 quiz.  That is, everything you should have received a grade for.  Then you'll need to show me you know how to navigate the JSON in that file.\n",
        "\n",
        "Different from what we've done in the past, you do not have to write any functions or include any docstrings.  Just create some JSON and write some code.\n",
        "\n",
        "---"
      ]
    },
    {
      "cell_type": "markdown",
      "metadata": {
        "id": "cOXqGG0EztDl"
      },
      "source": [
        "## 7.1 Create a JSON string\n",
        "\n",
        "Create a JSON string that contains your name, email, year you were born, all of the grades you've received back so far, and a comment about what you thought was most challenging on each of those assignments.  This can be any structure you choose, but make sure it uses a dictionary and a list, and has at least two levels of hierarchy.  That is, it can't just be one big long list."
      ]
    },
    {
      "cell_type": "markdown",
      "metadata": {
        "id": "mMzetqvqztDl"
      },
      "source": [
        "First, explain how your data structure is going to look..."
      ]
    },
    {
      "cell_type": "markdown",
      "metadata": {
        "id": "2Z3dAlA8ztDm"
      },
      "source": [
        "* Put your explanation here in text..."
      ]
    },
    {
      "cell_type": "markdown",
      "metadata": {
        "id": "xmBcTme1ztDm"
      },
      "source": [
        "Then put the actual JSON you've created inside the multiline string below..."
      ]
    },
    {
      "cell_type": "code",
      "execution_count": 9,
      "metadata": {
        "id": "7TcaBCTcztDm"
      },
      "outputs": [],
      "source": [
        "hds5210 = \"\"\"\n",
        "{\n",
        "  \"my_full_name\": \"Nithya satya M\",\n",
        "  \"my_email\": \"nmeka41@slu.edu\",\n",
        "  \"year_born\": \"1998\",\n",
        "  \"grades\": [\n",
        "    {\n",
        "      \"assignment\": \"Week 01 Assignment\",\n",
        "      \"grade\": \"10pts\",\n",
        "      \"comment\": \"Its very tough to do, as coming from another background which do not include programming but I tried so hard for best results.\"\n",
        "    },\n",
        "    {\n",
        "      \"assignment\": \"Week 02 Assignment\",\n",
        "      \"grade\": \"9pts\",\n",
        "      \"comment\": \"Thinking to put accurate responses was difficult to manage.\"\n",
        "    },\n",
        "    {\n",
        "      \"assignment\": \"Week 03 Assignment\",\n",
        "      \"grade\": \"10pts\",\n",
        "      \"comment\": \"It was difficult to handle calculations without making mistakes.\"\n",
        "    },\n",
        "    {\n",
        "      \"assignment\": \"Week 04 Assignment\",\n",
        "      \"grade\": \"10pts\",\n",
        "      \"comment\": \"It was difficult to handle complicated calculations correctly.\"\n",
        "    }\n",
        "  ]\n",
        "}\n",
        "\n",
        "\n",
        "\"\"\""
      ]
    },
    {
      "cell_type": "markdown",
      "metadata": {
        "id": "LB9rZ_fUztDn"
      },
      "source": [
        "## 7.2 Do something with your JSON\n",
        "\n",
        "Now use Python code to do something with the Json above.  Turn it into English text, but make sure that you use at least one loop to access some dict or list content of your JSON.  Below, I've provided some basic code to read in the string above as JSON and return a Python object.  Your job is to work with that data structure and print out the important information like your name, email, and how you did on each assignment."
      ]
    },
    {
      "cell_type": "code",
      "execution_count": 10,
      "metadata": {
        "colab": {
          "base_uri": "https://localhost:8080/"
        },
        "id": "aCjTKvo4ztDn",
        "outputId": "a2697644-467a-4588-ad6c-1e689652de0c"
      },
      "outputs": [
        {
          "output_type": "stream",
          "name": "stdout",
          "text": [
            "My full name is Nithya satya M and my email address is nmeka41@slu.edu. I was born in the year 1998.\n",
            "\n",
            "For the Week 01 Assignment, I received a grade of 10pts. Its very tough to do, as coming from another background which do not include programming but I tried so hard for best results.\n",
            "For the Week 02 Assignment, I received a grade of 9pts. Thinking to put accurate responses was difficult to manage.\n",
            "For the Week 03 Assignment, I received a grade of 10pts. It was difficult to handle calculations without making mistakes.\n",
            "For the Week 04 Assignment, I received a grade of 10pts. It was difficult to handle complicated calculations correctly.\n",
            "\n"
          ]
        }
      ],
      "source": [
        "import json\n",
        "\n",
        "info = json.loads(hds5210)\n",
        "paragraph = f\"My full name is {info['my_full_name']} and my email address is {info['my_email']}. I was born in the year {info['year_born']}.\\n\\n\"\n",
        "for grade_info in info['grades']:\n",
        "    paragraph += f\"For the {grade_info['assignment']}, I received a grade of {grade_info['grade']}. {grade_info['comment']}\\n\"\n",
        "\n",
        "print(paragraph)\n",
        "# Put your code to output a paragraph of English text here"
      ]
    },
    {
      "cell_type": "markdown",
      "metadata": {
        "id": "fIUZFgqvztDn"
      },
      "source": [
        "## 7.3 Reflect\n",
        "\n",
        "Write a paragraph on any reflections you have. Was this hard? Easy?  What parts were most challenging or easiest? What did you like or dislike about the assignment?  Share whatever important thoughts you have abou this assignment."
      ]
    },
    {
      "cell_type": "markdown",
      "metadata": {
        "id": "fEp3pZ2xztDo"
      },
      "source": [
        "* Working on this assignment gave me a fresh perspective on the challenges when working with data formats like JSON.Even while i have no trouble understanding and processing JSON data i realize that others may find it difficult, especially when it comes to making sure the grammar and structure are accurate.Since i have been trained on a large amount of text and can produce content that is contextually relevant, creating english paragraphs from structured data was the simplest part for me. However, the problem is in interpreting the precise needs of users and customizing replies to fulfill those.The difficult part is to determine the precise demands of consumers and designing solutions."
      ]
    },
    {
      "cell_type": "markdown",
      "metadata": {
        "id": "gKN46BjoztDo"
      },
      "source": [
        "---\n",
        "\n",
        "# Example\n",
        "\n",
        "Below is an example of something similar, but this uses information my and my friend's kids instead of grades."
      ]
    },
    {
      "cell_type": "code",
      "execution_count": 11,
      "metadata": {
        "colab": {
          "base_uri": "https://localhost:8080/"
        },
        "id": "2KN9qSTLztDo",
        "outputId": "57abc5a4-35ad-4e73-8af1-15c1e5965166"
      },
      "outputs": [
        {
          "output_type": "stream",
          "name": "stdout",
          "text": [
            "Hi, my name is Paul. I've got 3 kids. Their names are Ellie, Ada, Teddy.\n",
            "My friend, Anny has 1 kids. That's fewer than me. Their names are 1\n"
          ]
        }
      ],
      "source": [
        "hds5210 = \"\"\"\n",
        "{\n",
        "    \"me\": {\n",
        "        \"name\": \"Paul\",\n",
        "        \"kids\": [\"Ellie\", \"Ada\", \"Teddy\"]\n",
        "    },\n",
        "    \"friend\": {\n",
        "        \"name\": \"Anny\",\n",
        "        \"kids\": [\"Abby\"]\n",
        "    }\n",
        "}\n",
        "\"\"\"\n",
        "\n",
        "import json\n",
        "\n",
        "info = json.loads(hds5210)\n",
        "\n",
        "me = info[\"me\"][\"name\"]\n",
        "my_kids_count = len(info[\"me\"][\"kids\"])\n",
        "kids_list = \", \".join(info[\"me\"][\"kids\"])\n",
        "friend = info[\"friend\"][\"name\"]\n",
        "friends_kid_count = len(info[\"friend\"][\"kids\"])\n",
        "friend_kids = \", \".join(info[\"friend\"][\"kids\"])\n",
        "compare = \"more\" if friends_kid_count > my_kids_count else \"fewer\"\n",
        "\n",
        "print(f\"Hi, my name is {me}. I've got {my_kids_count} kids. Their names are {kids_list}.\")\n",
        "print(f\"My friend, {friend} has {friends_kid_count} kids. That's {compare} than me. Their names are {friends_kid_count}\")"
      ]
    }
  ],
  "metadata": {
    "kernelspec": {
      "display_name": "Python 3",
      "language": "python",
      "name": "python3"
    },
    "language_info": {
      "codemirror_mode": {
        "name": "ipython",
        "version": 3
      },
      "file_extension": ".py",
      "mimetype": "text/x-python",
      "name": "python",
      "nbconvert_exporter": "python",
      "pygments_lexer": "ipython3",
      "version": "3.9.16"
    },
    "colab": {
      "provenance": []
    }
  },
  "nbformat": 4,
  "nbformat_minor": 0
}