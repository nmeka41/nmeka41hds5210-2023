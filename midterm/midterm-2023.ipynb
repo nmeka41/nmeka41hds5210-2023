{
  "cells": [
    {
      "cell_type": "markdown",
      "metadata": {
        "id": "JD0cvMwvsCFu"
      },
      "source": [
        "# HDS5210-2022 Midterm\n",
        "\n",
        "In the midterm, you're going to use all the programming and data management skills you've developed so far to build a risk calculator that pretends to be integrated with a clinical registry.  You'll compute the PRIEST COVID-19 Clinical Severity Score for a series of patients and, based on their risk of an adverse outcome, query a REST web service to find a hospital to transfer them to. The end result of your work will be a list of instructions on where each patient should be discharged given their risk and various characteristics of the patient.\n",
        "\n",
        "Each step in the midterm will build up to form your complete solution.\n",
        "\n",
        "**Make sure you write good docstrings and doctests along the way!!**\n",
        "\n",
        "**The midterm is due at 11:59 PM CST on Monday, October 23rd.**\n",
        "\n",
        "---"
      ]
    },
    {
      "cell_type": "markdown",
      "metadata": {
        "id": "ZGcJu6IqsCFw"
      },
      "source": [
        "## Step 1: Calculate PRIEST Clinical Severity Score\n",
        "\n",
        "This scoring algorithm can be found [here on the MDCalc website](https://www.mdcalc.com/priest-covid-19-clinical-severity-score#evidence).  \n",
        "\n",
        "1. You will need to write a function called **priest()** with the following input parameters.  \n",
        " * Sex (Gender assigned at birth)\n",
        " * Age in years\n",
        " * Respiratory rate in breaths per minute\n",
        " * Oxygen saturation as a percent between 0 and 1\n",
        " * Heart rate in beats per minute\n",
        " * Systolic BP in mmHg\n",
        " * Temperature in degrees C\n",
        " * Alertness as a string description\n",
        " * Inspired Oxygen as as string description\n",
        " * Performance Status as a string description\n",
        "2. The function will need to follow the algorithm provided on the MDCalc website to compute a risk percentage that should be returned as a numeric value between 0 and 1.\n",
        "3. Be sure to use docstring documentation and at least three built-in docstring test cases.\n",
        "4. Assume that the input values that are strings could be any combination of upper or lower case. For example: 'male', 'Male', 'MALE', 'MalE' should all be interpretted by your code as male.\n",
        "5. If any of the inputs are invalid (for example a sex value that is not recognizable as male or female) your code should return None.\n",
        "\n",
        "NOTES:\n",
        "1. In the final step there is a table that translates from **PRIEST Score** to **30-day probability of an outcome** but the last two probabilities are shown as ranges (59-88% and >99%).  Our code needs to output a single number, however. For our code, use the following rule:\n",
        " * If PRIEST score is between 17 and 25, the probability you return should be 0.59\n",
        " * If PRIEST score is greater than or equal to 26, the probability you return should be 0.99\n"
      ]
    },
    {
      "cell_type": "code",
      "execution_count": 30,
      "metadata": {
        "id": "dylGxSXZsCFw"
      },
      "outputs": [],
      "source": [
        "def priest(sex, age, respiratory_rate, oxygen_saturation, heart_rate, systolic_bp, temperature, alertness, inspired_oxygen, performance_status):\n",
        "    \"\"\"\n",
        "    Calculates the PRIEST Score and returns the 30-day probability of an outcome.\n",
        "\n",
        "    Parameters:\n",
        "    - sex (str): Gender assigned at birth (either 'male' or 'female')\n",
        "    - age (int): Age in years\n",
        "    - respiratory_rate (int): Respiratory rate in breaths per minute\n",
        "    - oxygen_saturation (float): Oxygen saturation as a percent between 0 and 1\n",
        "    - heart_rate (int): Heart rate in beats per minute\n",
        "    - systolic_bp (int): Systolic BP in mmHg\n",
        "    - temperature (float): Temperature in degrees C\n",
        "    - alertness (str): Alertness as a string description ('alert' or 'confused or not alert')\n",
        "    - inspired_oxygen (str): Inspired Oxygen as a string description ('air' or 'supplemental oxygen')\n",
        "    - performance_status (str): Performance Status as a string description\n",
        "\n",
        "    Returns:\n",
        "    - float: 30-day probability of an outcome between 0 and 1. Returns None if any input is invalid.\n",
        "\n",
        "    Examples:\n",
        "    >>> priest('male', 75, 23, 0.91, 100, 95, 39.2, 'alert', 'supplemental oxygen', 'limited strenuous activity')\n",
        "    0.59\n",
        "    >>> priest('male', 85, 30, 0.9, 140, 85, 39.5, 'confused or not alert', 'supplemental oxygen', 'bed/chair bound, no self-care')\n",
        "    0.99\n",
        "    \"\"\"\n",
        "\n",
        "    # Initialize the score\n",
        "    score = 0\n",
        "\n",
        "    # Sex\n",
        "    sex = sex.lower()\n",
        "    if sex == 'male':\n",
        "        score += 1\n",
        "    elif sex != 'female':\n",
        "        return None\n",
        "\n",
        "    # Age\n",
        "    if 16 <= age <= 49:\n",
        "        score += 0\n",
        "    elif 50 <= age <= 65:\n",
        "        score += 2\n",
        "    elif 66 <= age <= 80:\n",
        "        score += 3\n",
        "    elif age > 80:\n",
        "        score += 4\n",
        "    else:\n",
        "        return None\n",
        "\n",
        "    # Respiratory rate\n",
        "    if respiratory_rate < 9:\n",
        "        score += 3\n",
        "    elif 9 <= respiratory_rate <= 11:\n",
        "        score += 1\n",
        "    elif 12 <= respiratory_rate <= 20:\n",
        "        score += 0\n",
        "    elif 21 <= respiratory_rate <= 24:\n",
        "        score += 2\n",
        "    elif respiratory_rate > 24:\n",
        "        score += 3\n",
        "    else:\n",
        "        return None\n",
        "\n",
        "    # Oxygen saturation\n",
        "    if oxygen_saturation > 0.95:\n",
        "        score += 0\n",
        "    elif 0.94 <= oxygen_saturation <= 0.95:\n",
        "        score += 1\n",
        "    elif 0.92 <= oxygen_saturation <= 0.93:\n",
        "        score += 2\n",
        "    elif oxygen_saturation < 0.92:\n",
        "        score += 3\n",
        "    else:\n",
        "        return None\n",
        "\n",
        "    # Heart rate\n",
        "    if heart_rate < 41:\n",
        "        score += 3\n",
        "    elif 41 <= heart_rate <= 50:\n",
        "        score += 1\n",
        "    elif 51 <= heart_rate <= 90:\n",
        "        score += 0\n",
        "    elif 91 <= heart_rate <= 110:\n",
        "        score += 1\n",
        "    elif 111 <= heart_rate <= 130:\n",
        "        score += 2\n",
        "    elif heart_rate > 130:\n",
        "        score += 3\n",
        "    else:\n",
        "        return None\n",
        "\n",
        "    # Systolic BP\n",
        "    if systolic_bp < 91:\n",
        "        score += 3\n",
        "    elif 91 <= systolic_bp <= 100:\n",
        "        score += 2\n",
        "    elif 101 <= systolic_bp <= 110:\n",
        "        score += 1\n",
        "    elif 111 <= systolic_bp <= 219:\n",
        "        score += 0\n",
        "    elif systolic_bp > 219:\n",
        "        score += 3\n",
        "    else:\n",
        "        return None\n",
        "\n",
        "    # Temperature\n",
        "    if temperature < 35.1:\n",
        "        score += 3\n",
        "    elif 35.1 <= temperature <= 36.0:\n",
        "        score += 1\n",
        "    elif 36.1 <= temperature <= 38.0:\n",
        "        score += 0\n",
        "    elif 38.1 <= temperature <= 39.0:\n",
        "        score += 1\n",
        "    elif temperature > 39.0:\n",
        "        score += 2\n",
        "    else:\n",
        "        return None\n",
        "\n",
        "    # Alertness\n",
        "    alertness = alertness.lower()\n",
        "    if alertness == 'alert':\n",
        "        score += 0\n",
        "    elif 'confused' in alertness or 'not alert' in alertness:\n",
        "        score += 3\n",
        "    else:\n",
        "        return None\n",
        "\n",
        "    # Inspired oxygen\n",
        "    inspired_oxygen = inspired_oxygen.lower()\n",
        "    if inspired_oxygen == 'air':\n",
        "        score += 0\n",
        "    elif 'supplemental oxygen' in inspired_oxygen:\n",
        "        score += 2\n",
        "    else:\n",
        "        return None\n",
        "\n",
        "    # Performance status\n",
        "    performance_status = performance_status.lower()\n",
        "    if 'unrestricted normal activity' in performance_status:\n",
        "        score += 0\n",
        "    elif 'limited strenuous activity' in performance_status:\n",
        "        score += 1\n",
        "    elif 'limited activity, can self-care' in performance_status:\n",
        "        score += 2\n",
        "    elif 'limited self-care' in performance_status:\n",
        "        score += 3\n",
        "    elif 'bed/chair bound' in performance_status:\n",
        "        score += 4\n",
        "    else:\n",
        "        return None\n",
        "\n",
        "    # Convert score to 30-day probability of an outcome\n",
        "    if score <= 16:\n",
        "        return 0.0\n",
        "    elif 17 <= score <= 25:\n",
        "        return 0.59\n",
        "    elif score >= 26:\n",
        "        return 0.99"
      ]
    },
    {
      "cell_type": "code",
      "execution_count": 31,
      "metadata": {
        "colab": {
          "base_uri": "https://localhost:8080/"
        },
        "id": "LjNRfVWVsCFw",
        "outputId": "ba9ba434-5a1b-436d-83f7-10e9f49a821f"
      },
      "outputs": [
        {
          "output_type": "stream",
          "name": "stdout",
          "text": [
            "Finding tests in NoName\n",
            "Trying:\n",
            "    priest('male', 75, 23, 0.91, 100, 95, 39.2, 'alert', 'supplemental oxygen', 'limited strenuous activity')\n",
            "Expecting:\n",
            "    0.59\n",
            "ok\n",
            "Trying:\n",
            "    priest('male', 85, 30, 0.9, 140, 85, 39.5, 'confused or not alert', 'supplemental oxygen', 'bed/chair bound, no self-care')\n",
            "Expecting:\n",
            "    0.99\n",
            "ok\n"
          ]
        }
      ],
      "source": [
        "import doctest\n",
        "doctest.run_docstring_examples(priest, globals(),verbose=True)"
      ]
    },
    {
      "cell_type": "markdown",
      "metadata": {
        "id": "aw036y4lsCFx"
      },
      "source": [
        "## Part 2: Find a hospital\n",
        "\n",
        "The next thing we have to do is figure out where to send this particular patient.  The guidelines on where to send a patient are based on their age (pediatric, adult, geriatric), sex, and risk percentage.  Luckily, you don't have to implement these rules. I already have. All you have to do is use a REST web service that I've created for you.\n",
        "\n",
        "You'll want to use Python to make a call to my REST web service similar to the example URL below. The first part of the URL will be the same for everyone and every request that you make. What you will need to modify for each of your requests is the information after the question mark.\n",
        "\n",
        "```\n",
        "https://oumdj6oci2.execute-api.us-east-1.amazonaws.com/prd/?age=40&sex=male&risk_pct=0.1\n",
        "```\n",
        "\n",
        "The example above asks my web service where a 40-year old male with a risk of 10% should go.  What the web service will return back is a JSON string containing the information you need.  That JSON will look like this:\n",
        "\n",
        "```json\n",
        "{\n",
        "  \"age\": \"40\",\n",
        "  \"sex\": \"male\",\n",
        "  \"risk\": \"0.1\",\n",
        "  \"hospital\": \"Southwest Hospital and Medical Center\"\n",
        "}\n",
        "```\n",
        "\n",
        "My function is not smart enough to understand `'MALE'` is the same as `'male'`.  You have to send it exactly `'male'` or `'female'`\n",
        "\n",
        "1. Your job is to write a function called **find_hospital()** that takes age, sex, and risk as parameters.\n",
        "2. Your function should call this REST web service using the `requests` module\n",
        "3. Then your function will need to interpret the JSON it gets and return just the name of the hospital\n",
        "4. If anything fails, return None\n",
        "5. Include a good docstring with at least three test cases.\n"
      ]
    },
    {
      "cell_type": "code",
      "execution_count": 32,
      "metadata": {
        "colab": {
          "base_uri": "https://localhost:8080/"
        },
        "id": "1LPBb8HpsCFx",
        "outputId": "23ddedb3-a497-4986-c0d1-7b4ceda8a513"
      },
      "outputs": [
        {
          "output_type": "stream",
          "name": "stdout",
          "text": [
            "Southwest Hospital and Medical Center\n",
            "Select Specialty Hospital - Northeast Atlanta\n",
            "Southwest Hospital and Medical Center\n"
          ]
        }
      ],
      "source": [
        "import requests\n",
        "\n",
        "def find_hospital(age, sex, risk):\n",
        "    \"\"\"\n",
        "    Finds the appropriate hospital for a patient based on age, sex, and risk percentage by querying a REST web service.\n",
        "\n",
        "    Parameters:\n",
        "    - age (int): Age of the patient\n",
        "    - sex (str): Gender of the patient (either 'male' or 'female')\n",
        "    - risk (float): Risk percentage of the patient (between 0 and 1)\n",
        "\n",
        "    Returns:\n",
        "    - str: Name of the recommended hospital. Returns None if there's an error in fetching or parsing the data.\n",
        "\n",
        "    Examples:\n",
        "    >>> find_hospital(40, 'male', 0.1)\n",
        "    'Southwest Hospital and Medical Center'\n",
        "    >>> find_hospital(50, 'female', 0.05)\n",
        "    'Select Specialty Hospital - Northeast Atlanta'\n",
        "    >>> find_hospital(30, 'male', 0.2)\n",
        "    'Southwest Hospital and Medical Center'\n",
        "    \"\"\"\n",
        "\n",
        "    base_url = \"https://oumdj6oci2.execute-api.us-east-1.amazonaws.com/prd/\"\n",
        "    query_params = {\n",
        "        \"age\": age,\n",
        "        \"sex\": sex.lower(),\n",
        "        \"risk_pct\": risk\n",
        "    }\n",
        "\n",
        "    try:\n",
        "        response = requests.get(base_url, params=query_params)\n",
        "        if response.status_code == 200:\n",
        "            data = response.json()\n",
        "            return data.get('hospital', None)\n",
        "        else:\n",
        "            return None\n",
        "    except Exception as e:\n",
        "        print(f\"Error while fetching hospital data: {e}\")\n",
        "        return None\n",
        "print(find_hospital(40, 'male', 0.1))\n",
        "print(find_hospital(50, 'female', 0.05))\n",
        "print(find_hospital(30, 'male', 0.2))"
      ]
    },
    {
      "cell_type": "code",
      "execution_count": 33,
      "metadata": {
        "colab": {
          "base_uri": "https://localhost:8080/"
        },
        "id": "_9DZyWyVsCFx",
        "outputId": "eeee1d93-96fb-481c-a6b8-253605b11116"
      },
      "outputs": [
        {
          "output_type": "stream",
          "name": "stdout",
          "text": [
            "Finding tests in NoName\n",
            "Trying:\n",
            "    find_hospital(40, 'male', 0.1)\n",
            "Expecting:\n",
            "    'Southwest Hospital and Medical Center'\n",
            "ok\n",
            "Trying:\n",
            "    find_hospital(50, 'female', 0.05)\n",
            "Expecting:\n",
            "    'Select Specialty Hospital - Northeast Atlanta'\n",
            "ok\n",
            "Trying:\n",
            "    find_hospital(30, 'male', 0.2)\n",
            "Expecting:\n",
            "    'Southwest Hospital and Medical Center'\n",
            "ok\n"
          ]
        }
      ],
      "source": [
        "import doctest\n",
        "doctest.run_docstring_examples(find_hospital, globals(),verbose=True)"
      ]
    },
    {
      "cell_type": "markdown",
      "metadata": {
        "id": "TjnGsgUssCFx"
      },
      "source": [
        "## Part 3: Get the address for that hospital from a JSON file\n",
        "\n",
        "Great! Now we have code to tell us which hospital to send someone to... but we don't know where that hospital is. The next function we need to create is one that looks up the address of that hospital.  All of these hospitals are in Atlanta, Georgia.  We're going to use the list from this webpage to lookup the address for that hospital, based on its name.  https://www.officialusa.com/stateguides/health/hospitals/georgia.html\n",
        "\n",
        "Because we skipped the section about Beautiful Soup and working with HTML, I've converted this information into a JSON document for you.  It's available for you here.  Your code should retrieve this file using the `requests` module.\n",
        "\n",
        "`https://drive.google.com/uc?export=download&id=1fIFD-NkcdiMu941N4GjyMDWxiKsFJBw-`\n",
        "\n",
        "1. You need to create a function called **get_address()** that takes hospital name as a parameter and searches the data from this JSON file for the hospital you want to find.\n",
        "2. Your code will have to load the JSON and return the correct hospital based on name.\n",
        "3. If the hospital name isn't found, the function should return None.\n",
        "4. Be sure to use good docstring documentation and includes at least 3 test cases."
      ]
    },
    {
      "cell_type": "code",
      "execution_count": 34,
      "metadata": {
        "id": "LGsBHy6hsCFx"
      },
      "outputs": [],
      "source": [
        "def get_address(hospital_name):\n",
        "    \"\"\"\n",
        "    Retrieves the address of a hospital based on its name from a JSON data source.\n",
        "\n",
        "    Parameters:\n",
        "    - hospital_name (str): Name of the hospital\n",
        "\n",
        "    Returns:\n",
        "    - str: Address of the hospital. Returns None if the hospital name isn't found.\n",
        "\n",
        "    Examples:\n",
        "    >>> get_address('COOK MEDICAL CENTER')\n",
        "    '706 NORTH PARRISH AVENUE'\n",
        "\n",
        "    >>> get_address('PHOEBE PUTNEY MEMORIAL HOSPITAL')\n",
        "    '417 THIRD AVENUE'\n",
        "\n",
        "    >>> get_address('Non-existent Hospital')\n",
        "    None\n",
        "    \"\"\"\n",
        "\n",
        "    try:\n",
        "\n",
        "        response = requests.get(url)\n",
        "        data = response.json()\n",
        "        for hospital in data:\n",
        "            if hospital_name.upper() in hospital:\n",
        "                return data[hospital][\"ADDRESS\"]\n",
        "        return None\n",
        "    except KeyError:\n",
        "        return None\n",
        "    except Exception as e:\n",
        "        return None\n",
        "get_address('EMORY-ADVENTIST HOSPITAL')\n"
      ]
    },
    {
      "cell_type": "markdown",
      "metadata": {
        "id": "HCIRaE83sCFy"
      },
      "source": [
        "## Part 4: Run the risk calculator on a population\n",
        "\n",
        "At the link below, there is a file called `people.psv`.  It is a pipe-delimited (`|`) file with columns that match the inputs for the PRIEST calculation above.  Your code should use the `requests` module to retrieve the file from this URL.\n",
        "\n",
        "`https://drive.google.com/uc?export=download&id=1fLxJN9YGUqmqExrilxSS8furwUER5HHh`\n",
        "\n",
        "\n",
        "In addition, the file has a patient identifier in the first column.\n",
        "\n",
        "1. Write a function called **process_people()** that takes the file location above as its only parameter. Your Python program should use your code above to process all of these rows, determine the hospital and address, and return a list whose items are a dictionary like this: `{ patient_number: [sex, age, breath, o2sat, heart, systolic, temp, alertness, inspired, status, hospital, address]}`.  Look at the file in Part 5 for what the output looks like.\n",
        "2. Be sure to use good docstrings, but you don't need any tests in your doc strings.  I've provided those for you withe file in Part 5.\n",
        "\n",
        "\n",
        "**NOTE** that when running your code for all the 100 records in the `people.psv` file, it may take a few minutes to complete.  You're making multiple calls to the internet for each record, so that can take a little while.\n"
      ]
    },
    {
      "cell_type": "code",
      "execution_count": 35,
      "metadata": {
        "colab": {
          "base_uri": "https://localhost:8080/"
        },
        "id": "axdzHi1nsCFy",
        "outputId": "8dbe8751-9996-43fe-8cb4-3ad3d57589aa"
      },
      "outputs": [
        {
          "output_type": "stream",
          "name": "stdout",
          "text": [
            "[{'E9559': ['FEMALE', 40, 24, 0.96, 105, 115, 34.9, 'ALERT', 'AIR', 'unrestricted normal activity', 'Select Specialty Hospital - Northeast Atlanta']}, {'E9385': ['Female', 51, 19, 0.99, 90, 91, 38.1, 'ALERT', 'supplemental oxygen', 'unrestricted normal activity', 'Select Specialty Hospital - Northeast Atlanta']}, {'E3067': ['female', 40, 29, 0.96, 105, 95, 38.1, 'ALERT', 'air', 'unrestricted normal activity', 'Select Specialty Hospital - Northeast Atlanta']}, {'E9422': ['FEMALE', 66, 19, 0.96, 135, 115, 38.1, 'ALERT', 'AIR', 'bed/chair bound, no self-care', 'Wesley Woods Geriatric Hospital']}, {'E8661': ['MALE', 18, 22, 0.95, 105, 115, 36.3, 'Confused or Not Alert', 'air', 'unrestricted normal activity', 'Southwest Hospital and Medical Center']}, {'E6235': ['Male', 16, 23, 0.96, 135, 115, 39.2, 'ALERT', 'supplemental oxygen', 'unrestricted normal activity', 'Childrens Healthcare of Atlanta at Scottish Rite']}, {'E4451': ['MALE', 40, 8, 0.96, 135, 115, 38.1, 'ALERT', 'AIR', 'unrestricted normal activity', 'Southwest Hospital and Medical Center']}, {'E8433': ['FEMALE', 40, 23, 0.99, 89, 91, 38.1, 'ALERT', 'AIR', 'limited self-care', 'Select Specialty Hospital - Northeast Atlanta']}, {'E7593': ['FEMALE', 80, 23, 0.96, 105, 115, 38.1, 'ALERT', 'supplemental oxygen', 'limited activity, can self-care', 'Wesley Woods Geriatric Hospital']}, {'E3296': ['MALE', 51, 23, 0.95, 105, 115, 38.1, 'ALERT', 'AIR', 'unrestricted normal activity', 'Southwest Hospital and Medical Center']}, {'E4157': ['FEMALE', 40, 23, 0.96, 41, 115, 35.4, 'ALERT', 'AIR', 'unrestricted normal activity', 'Select Specialty Hospital - Northeast Atlanta']}, {'E7702': ['FEMALE', 40, 22, 0.96, 105, 115, 38.1, 'ALERT', 'supplemental oxygen', 'unrestricted normal activity', 'Select Specialty Hospital - Northeast Atlanta']}, {'E8158': ['MALE', 40, 20, 0.99, 135, 115, 39.2, 'ALERT', 'AIR', 'unrestricted normal activity', 'Southwest Hospital and Medical Center']}, {'E4795': ['female', 80, 11, 0.93, 105, 95, 40.8, 'ALERT', 'AIR', 'limited activity, can self-care', 'Wesley Woods Geriatric Hospital']}, {'E8800': ['MALE', 80, 22, 0.96, 105, 115, 39.2, 'confused or not alert', 'AIR', 'limited activity, can self-care', 'Wesley Woods Geriatric Hospital']}, {'E4855': ['female', 51, 23, 0.94, 135, 115, 38.1, 'ALERT', 'AIR', 'limited strenuous activity, can do light activity', 'Select Specialty Hospital - Northeast Atlanta']}, {'E9691': ['Male', 16, 10, 0.96, 105, 115, 38.1, 'ALERT', 'AIR', 'unrestricted normal activity', 'Childrens Healthcare of Atlanta at Scottish Rite']}, {'E4535': ['FEMALE', 19, 11, 0.99, 105, 115, 35.4, 'ALERT', 'AIR', 'unrestricted normal activity', 'Select Specialty Hospital - Northeast Atlanta']}, {'E2360': ['Male', 40, 20, 0.96, 51, 95, 34.9, 'alert', 'supplemental oxygen', 'unrestricted normal activity', 'Southwest Hospital and Medical Center']}, {'E3447': ['MALE', 80, 22, 0.96, 41, 115, 38.1, 'ALERT', 'AIR', 'limited activity, can self-care', 'Wesley Woods Geriatric Hospital']}, {'E8208': ['FEMALE', 18, 23, 0.96, 135, 115, 38.1, 'ALERT', 'AIR', 'unrestricted normal activity', 'Select Specialty Hospital - Northeast Atlanta']}, {'E4428': ['FEMALE', 40, 23, 0.96, 38, 115, 36.3, 'ALERT', 'AIR', 'unrestricted normal activity', 'Select Specialty Hospital - Northeast Atlanta']}, {'E2766': ['Male', 18, 23, 0.96, 105, 115, 34.9, 'ALERT', 'AIR', 'unrestricted normal activity', 'Southwest Hospital and Medical Center']}, {'E3888': ['FEMALE', 51, 19, 0.96, 135, 115, 34.9, 'ALERT', 'AIR', 'unrestricted normal activity', 'Select Specialty Hospital - Northeast Atlanta']}, {'E7110': ['female', 85, 24, 0.99, 105, 101, 40.8, 'Confused or Not Alert', 'AIR', 'unrestricted normal activity', 'Wesley Woods Geriatric Hospital']}, {'E2668': ['FEMALE', 18, 22, 0.96, 105, 101, 38.1, 'ALERT', 'AIR', 'unrestricted normal activity', 'Select Specialty Hospital - Northeast Atlanta']}, {'E8482': ['Male', 40, 22, 0.96, 105, 230, 36.3, 'ALERT', 'AIR', 'limited self-care', 'Southwest Hospital and Medical Center']}, {'E9619': ['FEMALE', 40, 11, 0.98, 41, 115, 38.1, 'ALERT', 'AIR', 'unrestricted normal activity', 'Select Specialty Hospital - Northeast Atlanta']}, {'E1700': ['male', 40, 23, 0.96, 105, 115, 38.1, 'Confused or Not Alert', 'AIR', 'unrestricted normal activity', 'Southwest Hospital and Medical Center']}, {'E8585': ['MALE', 19, 8, 0.96, 105, 115, 36.3, 'alert', 'AIR', 'bed/chair bound, no self-care', 'Southwest Hospital and Medical Center']}, {'E8633': ['FEMALE', 40, 22, 0.96, 38, 91, 35.4, 'ALERT', 'AIR', 'unrestricted normal activity', 'Select Specialty Hospital - Northeast Atlanta']}, {'E2117': ['FEMALE', 16, 22, 0.96, 135, 115, 39.2, 'Confused or Not Alert', 'supplemental oxygen', 'bed/chair bound, no self-care', 'Childrens Healthcare of Atlanta at Scottish Rite']}, {'E2322': ['female', 18, 22, 0.96, 105, 115, 38.1, 'alert', 'supplemental oxygen', 'unrestricted normal activity', 'Select Specialty Hospital - Northeast Atlanta']}, {'E6912': ['FEMALE', 51, 23, 0.96, 105, 95, 34.9, 'ALERT', 'AIR', 'unrestricted normal activity', 'Select Specialty Hospital - Northeast Atlanta']}, {'E5702': ['Male', 80, 23, 0.96, 135, 115, 38.1, 'ALERT', 'AIR', 'unrestricted normal activity', 'Wesley Woods Geriatric Hospital']}, {'E5513': ['FEMALE', 18, 12, 0.96, 105, 115, 38.1, 'ALERT', 'AIR', 'unrestricted normal activity', 'Select Specialty Hospital - Northeast Atlanta']}, {'E1861': ['FEMALE', 18, 22, 0.96, 105, 230, 38.1, 'ALERT', 'AIR', 'limited strenuous activity, can do light activity', 'Select Specialty Hospital - Northeast Atlanta']}, {'E4809': ['FEMALE', 40, 22, 0.96, 41, 230, 38.1, 'ALERT', 'AIR', 'unrestricted normal activity', 'Select Specialty Hospital - Northeast Atlanta']}, {'E1365': ['MALE', 22, 22, 0.96, 115, 101, 35.4, 'ALERT', 'AIR', 'bed/chair bound, no self-care', 'Southwest Hospital and Medical Center']}, {'E5984': ['Male', 40, 12, 0.93, 105, 91, 35.1, 'ALERT', 'AIR', 'limited activity, can self-care', 'Southwest Hospital and Medical Center']}, {'E7013': ['FEMALE', 66, 23, 0.96, 135, 89, 40.8, 'ALERT', 'supplemental oxygen', 'unrestricted normal activity', 'Wesley Woods Geriatric Hospital']}, {'E2331': ['female', 18, 23, 0.98, 105, 115, 38.1, 'ALERT', 'AIR', 'limited self-care', 'Select Specialty Hospital - Northeast Atlanta']}, {'E9938': ['MALE', 18, 12, 0.96, 105, 89, 35.1, 'ALERT', 'AIR', 'unrestricted normal activity', 'Southwest Hospital and Medical Center']}, {'E5121': ['Female', 18, 23, 0.96, 41, 95, 38.1, 'ALERT', 'supplemental oxygen', 'limited activity, can self-care', 'Select Specialty Hospital - Northeast Atlanta']}, {'E9280': ['male', 65, 10, 0.96, 135, 91, 38.1, 'ALERT', 'AIR', 'unrestricted normal activity', 'Wesley Woods Geriatric Hospital']}, {'E4762': ['FEMALE', 40, 12, 0.98, 105, 95, 38.1, 'ALERT', 'AIR', 'unrestricted normal activity', 'Select Specialty Hospital - Northeast Atlanta']}, {'E6885': ['MALE', 18, 23, 0.93, 89, 115, 35.1, 'confused or not alert', 'AIR', 'limited activity, can self-care', 'Southwest Hospital and Medical Center']}, {'E1695': ['FEMALE', 40, 22, 0.96, 41, 115, 38.1, 'ALERT', 'AIR', 'unrestricted normal activity', 'Select Specialty Hospital - Northeast Atlanta']}, {'E9658': ['Female', 18, 10, 0.96, 90, 230, 38.1, 'ALERT', 'AIR', 'limited self-care', 'Select Specialty Hospital - Northeast Atlanta']}, {'E1961': ['FEMALE', 65, 23, 0.96, 105, 115, 40.8, 'ALERT', 'AIR', 'limited activity, can self-care', 'Wesley Woods Geriatric Hospital']}, {'E9154': ['FEMALE', 66, 8, 0.94, 105, 89, 35.4, 'alert', 'AIR', 'bed/chair bound, no self-care', 'Wesley Woods Geriatric Hospital']}, {'E9417': ['FEMALE', 40, 23, 0.96, 105, 95, 38.1, 'alert', 'AIR', 'unrestricted normal activity', 'Select Specialty Hospital - Northeast Atlanta']}, {'E9979': ['Male', 18, 8, 0.96, 105, 115, 38.1, 'ALERT', 'AIR', 'limited strenuous activity, can do light activity', 'Southwest Hospital and Medical Center']}, {'E9316': ['MALE', 18, 23, 0.96, 135, 115, 38.1, 'ALERT', 'AIR', 'unrestricted normal activity', 'Southwest Hospital and Medical Center']}, {'E8146': ['Male', 18, 12, 0.96, 115, 115, 38.1, 'ALERT', 'AIR', 'unrestricted normal activity', 'Southwest Hospital and Medical Center']}, {'E3093': ['female', 40, 29, 0.96, 105, 95, 38.1, 'ALERT', 'AIR', 'unrestricted normal activity', 'Select Specialty Hospital - Northeast Atlanta']}, {'E8829': ['male', 65, 12, 0.96, 51, 230, 38.1, 'alert', 'AIR', 'unrestricted normal activity', 'Wesley Woods Geriatric Hospital']}, {'E1453': ['male', 18, 24, 0.99, 105, 115, 38.1, 'ALERT', 'AIR', 'unrestricted normal activity', 'Southwest Hospital and Medical Center']}, {'E5777': ['female', 66, 23, 0.96, 115, 89, 38.1, 'ALERT', 'AIR', 'limited strenuous activity, can do light activity', 'Wesley Woods Geriatric Hospital']}, {'E4564': ['FEMALE', 18, 24, 0.96, 41, 115, 35.1, 'confused or not alert', 'AIR', 'unrestricted normal activity', 'Select Specialty Hospital - Northeast Atlanta']}, {'E1904': ['FEMALE', 40, 22, 0.93, 38, 95, 38.1, 'Confused or Not Alert', 'AIR', 'unrestricted normal activity', 'Select Specialty Hospital - Northeast Atlanta']}, {'E8746': ['Female', 40, 12, 0.93, 105, 115, 38.1, 'ALERT', 'AIR', 'unrestricted normal activity', 'Select Specialty Hospital - Northeast Atlanta']}, {'E9165': ['FEMALE', 19, 22, 0.98, 50, 95, 38.1, 'ALERT', 'AIR', 'limited activity, can self-care', 'Select Specialty Hospital - Northeast Atlanta']}, {'E9305': ['FEMALE', 40, 8, 0.89, 105, 101, 38.1, 'ALERT', 'supplemental oxygen', 'unrestricted normal activity', 'Select Specialty Hospital - Northeast Atlanta']}, {'E3217': ['Female', 40, 10, 0.95, 105, 95, 38.1, 'ALERT', 'AIR', 'unrestricted normal activity', 'Select Specialty Hospital - Northeast Atlanta']}, {'E3127': ['Female', 40, 8, 0.96, 38, 115, 36.3, 'ALERT', 'AIR', 'limited strenuous activity, can do light activity', 'Select Specialty Hospital - Northeast Atlanta']}, {'E7501': ['female', 18, 23, 0.96, 135, 115, 38.1, 'ALERT', 'AIR', 'unrestricted normal activity', 'Select Specialty Hospital - Northeast Atlanta']}, {'E4997': ['female', 40, 23, 0.94, 105, 115, 36.3, 'ALERT', 'AIR', 'unrestricted normal activity', 'Select Specialty Hospital - Northeast Atlanta']}, {'E6181': ['female', 19, 23, 0.96, 89, 115, 38.1, 'ALERT', 'AIR', 'unrestricted normal activity', 'Select Specialty Hospital - Northeast Atlanta']}, {'E1073': ['FEMALE', 18, 24, 0.95, 50, 115, 38.1, 'Confused or Not Alert', 'AIR', 'limited self-care', 'Select Specialty Hospital - Northeast Atlanta']}, {'E9608': ['female', 80, 12, 0.96, 50, 89, 38.1, 'ALERT', 'AIR', 'unrestricted normal activity', 'Wesley Woods Geriatric Hospital']}, {'E7663': ['FEMALE', 18, 11, 0.96, 105, 115, 38.1, 'ALERT', 'air', 'limited self-care', 'Select Specialty Hospital - Northeast Atlanta']}, {'E7648': ['female', 66, 12, 0.98, 41, 115, 34.9, 'ALERT', 'air', 'unrestricted normal activity', 'Wesley Woods Geriatric Hospital']}, {'E1883': ['male', 40, 10, 0.98, 105, 115, 38.1, 'ALERT', 'AIR', 'unrestricted normal activity', 'Southwest Hospital and Medical Center']}, {'E2001': ['FEMALE', 18, 12, 0.99, 51, 115, 38.1, 'Confused or Not Alert', 'AIR', 'unrestricted normal activity', 'Select Specialty Hospital - Northeast Atlanta']}, {'E2418': ['male', 18, 20, 0.94, 105, 115, 35.4, 'ALERT', 'air', 'unrestricted normal activity', 'Southwest Hospital and Medical Center']}, {'E3739': ['Male', 85, 10, 0.96, 105, 115, 38.1, 'Confused or Not Alert', 'supplemental oxygen', 'unrestricted normal activity', 'Wesley Woods Geriatric Hospital']}, {'E8351': ['FEMALE', 40, 23, 0.96, 90, 101, 38.1, 'ALERT', 'AIR', 'unrestricted normal activity', 'Select Specialty Hospital - Northeast Atlanta']}, {'E2882': ['Male', 51, 24, 0.98, 105, 91, 38.1, 'ALERT', 'AIR', 'unrestricted normal activity', 'Southwest Hospital and Medical Center']}, {'E1902': ['Female', 85, 22, 0.96, 105, 115, 38.1, 'ALERT', 'supplemental oxygen', 'unrestricted normal activity', 'Wesley Woods Geriatric Hospital']}, {'E2155': ['Male', 18, 22, 0.94, 105, 115, 38.1, 'ALERT', 'air', 'limited self-care', 'Southwest Hospital and Medical Center']}, {'E4345': ['Female', 40, 19, 0.89, 41, 115, 34.9, 'ALERT', 'air', 'unrestricted normal activity', 'Select Specialty Hospital - Northeast Atlanta']}, {'E4194': ['FEMALE', 40, 12, 0.95, 105, 91, 38.1, 'ALERT', 'AIR', 'limited self-care', 'Select Specialty Hospital - Northeast Atlanta']}, {'E5211': ['male', 65, 22, 0.96, 41, 115, 38.1, 'ALERT', 'AIR', 'unrestricted normal activity', 'Wesley Woods Geriatric Hospital']}, {'E5488': ['Female', 40, 12, 0.94, 105, 101, 38.1, 'ALERT', 'AIR', 'unrestricted normal activity', 'Select Specialty Hospital - Northeast Atlanta']}, {'E8560': ['FEMALE', 40, 23, 0.96, 41, 115, 35.1, 'confused or not alert', 'AIR', 'unrestricted normal activity', 'Select Specialty Hospital - Northeast Atlanta']}, {'E2995': ['FEMALE', 18, 20, 0.99, 105, 95, 35.1, 'alert', 'AIR', 'unrestricted normal activity', 'Select Specialty Hospital - Northeast Atlanta']}, {'E3422': ['FEMALE', 40, 8, 0.96, 105, 115, 35.4, 'ALERT', 'AIR', 'unrestricted normal activity', 'Select Specialty Hospital - Northeast Atlanta']}, {'E7707': ['Female', 18, 20, 0.96, 38, 115, 36.3, 'ALERT', 'air', 'limited strenuous activity, can do light activity', 'Select Specialty Hospital - Northeast Atlanta']}, {'E3119': ['FEMALE', 18, 20, 0.99, 135, 89, 35.1, 'ALERT', 'supplemental oxygen', 'unrestricted normal activity', 'Select Specialty Hospital - Northeast Atlanta']}, {'E1419': ['male', 65, 23, 0.99, 105, 91, 38.1, 'alert', 'AIR', 'unrestricted normal activity', 'Wesley Woods Geriatric Hospital']}, {'E7748': ['male', 40, 23, 0.93, 105, 115, 38.1, 'ALERT', 'supplemental oxygen', 'unrestricted normal activity', 'Southwest Hospital and Medical Center']}, {'E7251': ['Female', 40, 12, 0.96, 105, 91, 38.1, 'alert', 'AIR', 'unrestricted normal activity', 'Select Specialty Hospital - Northeast Atlanta']}, {'E1235': ['FEMALE', 40, 29, 0.96, 41, 115, 38.1, 'ALERT', 'AIR', 'bed/chair bound, no self-care', 'Select Specialty Hospital - Northeast Atlanta']}, {'E5361': ['FEMALE', 18, 22, 0.93, 90, 101, 38.1, 'confused or not alert', 'AIR', 'unrestricted normal activity', 'Select Specialty Hospital - Northeast Atlanta']}, {'E7130': ['FEMALE', 18, 22, 0.96, 50, 115, 38.1, 'ALERT', 'AIR', 'limited strenuous activity, can do light activity', 'Select Specialty Hospital - Northeast Atlanta']}, {'E5665': ['FEMALE', 85, 23, 0.96, 115, 115, 38.1, 'ALERT', 'AIR', 'unrestricted normal activity', 'Wesley Woods Geriatric Hospital']}, {'E9957': ['Female', 40, 22, 0.98, 89, 230, 38.1, 'alert', 'AIR', 'unrestricted normal activity', 'Select Specialty Hospital - Northeast Atlanta']}, {'E10000': ['FEMALE', 18, 23, 0.96, 105, 101, 38.1, 'ALERT', 'AIR', 'limited activity, can self-care', 'Select Specialty Hospital - Northeast Atlanta']}]\n"
          ]
        }
      ],
      "source": [
        "import requests\n",
        "\n",
        "def process_people(url):\n",
        "    \"\"\"\n",
        "    Processes a pipe-delimited file of patient data to calculate the PRIEST risk score,\n",
        "    determine the recommended hospital, and fetch the hospital address.\n",
        "\n",
        "    Parameters:\n",
        "    - url (str): The URL of the pipe-delimited file.\n",
        "\n",
        "    Returns:\n",
        "    - list: A list of dictionaries, each representing a patient's data, including the\n",
        "            calculated PRIEST risk score, recommended hospital, and hospital address.\n",
        "    \"\"\"\n",
        "    try:\n",
        "        response = requests.get(url)\n",
        "        response.raise_for_status()\n",
        "    except requests.RequestException:\n",
        "        return None\n",
        "\n",
        "    lines = response.text.strip().split('\\n')\n",
        "    headers = lines[0].split('|')\n",
        "\n",
        "    results = []\n",
        "\n",
        "    expected_number_of_columns = len(headers)\n",
        "    for line in lines[1:]:\n",
        "        if not line:\n",
        "            continue\n",
        "\n",
        "        data_points = line.split('|')\n",
        "\n",
        "        if len(data_points) < expected_number_of_columns:\n",
        "            continue\n",
        "\n",
        "        patient_number = data_points[0]\n",
        "        sex = data_points[1]\n",
        "        age = int(data_points[2])\n",
        "        breath = int(data_points[3])\n",
        "        o2sat = float(data_points[4])\n",
        "        heart = int(data_points[5])\n",
        "        systolic = int(data_points[6])\n",
        "        temp = float(data_points[7])\n",
        "        alertness = data_points[8]\n",
        "        inspired = data_points[9]\n",
        "        status = data_points[10]\n",
        "\n",
        "        risk_score = priest(sex, age, breath, o2sat, heart, systolic, temp, alertness, inspired, status)\n",
        "        hospital = find_hospital(age, sex, risk_score)\n",
        "\n",
        "        # Add the data to results\n",
        "        results.append({\n",
        "            patient_number: [sex, age, breath, o2sat, heart, systolic, temp, alertness, inspired, status, hospital]\n",
        "        })\n",
        "\n",
        "    return results\n",
        "\n",
        "url = \"https://hds5210-data.s3.amazonaws.com/people.psv\"\n",
        "result = process_people(url)\n",
        "print(result)"
      ]
    },
    {
      "cell_type": "markdown",
      "metadata": {
        "id": "QvRGerEPsCFy"
      },
      "source": [
        "## Part 5: Checking your final results\n",
        "\n",
        "The final step is to check your results.  You should be able to compare your results to the output in `people_results.json` at the link below.  Write some code to check your results.  This does not need to be a function.\n",
        "\n",
        "`https://drive.google.com/uc?export=download&id=1gx1SSC20mO5XL6uYD0mdcM_cL91fcIW5`\n"
      ]
    },
    {
      "cell_type": "code",
      "execution_count": 36,
      "metadata": {
        "colab": {
          "base_uri": "https://localhost:8080/"
        },
        "id": "Kw5wDL-lsCFy",
        "outputId": "929ecafa-c5d3-49d9-edb4-6a9ce59e4c62"
      },
      "outputs": [
        {
          "output_type": "stream",
          "name": "stdout",
          "text": [
            "False\n"
          ]
        }
      ],
      "source": [
        "import requests\n",
        "\n",
        "def compare():\n",
        "    fileURL = \"https://hds5210-data.s3.amazonaws.com/people_results.json\"\n",
        "    response = requests.get(fileURL)\n",
        "\n",
        "    if response.status_code != 200:\n",
        "        print(\"Failed to retrieve the data.\")\n",
        "        return None\n",
        "\n",
        "    data_from_file = response.json()\n",
        "    result_from_function = process_people(\"https://hds5210-data.s3.amazonaws.com/people.psv\")\n",
        "    return data_from_file == result_from_function\n",
        "result = compare()\n",
        "print(result)\n"
      ]
    },
    {
      "cell_type": "markdown",
      "metadata": {
        "id": "kjeMAmmfsCFy"
      },
      "source": [
        "---\n",
        "\n",
        "## Check your work above\n",
        "\n",
        "If you didn't get them all correct, take a few minutes to think through those that aren't correct.\n",
        "\n",
        "\n",
        "## Submitting Your Work\n",
        "\n",
        "Submit your work as usual into a folder named `midterm`"
      ]
    },
    {
      "cell_type": "markdown",
      "metadata": {
        "id": "D-9jHZyUsCFy"
      },
      "source": [
        "---"
      ]
    }
  ],
  "metadata": {
    "kernelspec": {
      "display_name": "Python 3",
      "language": "python",
      "name": "python3"
    },
    "language_info": {
      "codemirror_mode": {
        "name": "ipython",
        "version": 3
      },
      "file_extension": ".py",
      "mimetype": "text/x-python",
      "name": "python",
      "nbconvert_exporter": "python",
      "pygments_lexer": "ipython3",
      "version": "3.9.16"
    },
    "colab": {
      "provenance": []
    }
  },
  "nbformat": 4,
  "nbformat_minor": 0
}