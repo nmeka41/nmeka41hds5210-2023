{
  "cells": [
    {
      "cell_type": "markdown",
      "metadata": {
        "id": "_rZ2FaVe5f3I"
      },
      "source": [
        "# In Class Quiz!\n",
        "\n",
        "This week, we are doing an in-class quiz to see how each of you is doing on your own.\n",
        "\n",
        "You must complete this work **entirely on your own** in the next 15 minutes.\n",
        "\n",
        "You may **not ask for help** from anyone **including Google or ChatGPT**.\n",
        "\n",
        "You **are allowed** to use class slides, the online textbook, previous assignments, and any other notes you have.\n",
        "\n",
        "This quiz will be worth **20 points**.\n"
      ]
    },
    {
      "cell_type": "markdown",
      "metadata": {
        "id": "kLlFqqXe5f3J"
      },
      "source": [
        "## Q6.1 - Mean Arterial Pressure (MAP)\n",
        "\n",
        "Mean Arterial Pressure can indicate if a patient is receiving sufficient blood to keep tissue alive.  You can see how to calculate MAP on the [Evidence tab of this page](https://www.mdcalc.com/calc/74/mean-arterial-pressure-map).  I've included the important details here for easy reference.\n",
        "\n",
        "* `map = (1/3 * systolic_bp) + (2/3 * diastolic_bp)`\n",
        "* If a patient has severe sepsis, we want their MAP to be ≥65 mmHg\n",
        "* If a patient does not have severe sepsis, we want their MAP to to be ≥60 mmHg\n",
        "* If the systolic_bp or diastolic_bp reported are ≤ 0, you should return `None`\n",
        "\n",
        "You need to create a function called `map_test()` that takes three parameters: `systolic_bp`, `diastolic_bp`, and `severe_sepsis`.\n",
        "* `systolic_bp` will be an integer\n",
        "* `diastolic_bp` will be an integer\n",
        "* `severe_sepsis` will be a boolean, indicating if the patient has severe sepsis (`True`) or not (`False`)\n",
        "\n",
        "Your function should return either a `True` or `False` depending on if the patient's Mean Arterial Pressure is sufficient to maintain a healthy condition.  That is:\n",
        "* If the patient has severe sepsis, then a MAP ≥ 65 should return True; otherwise False\n",
        "* If the patient does not have severe sepsis, then a MAP ≥ 60 should return True; otherwise False\n",
        "\n",
        "I have provided several test scenarios to help you verify your work.\n",
        "\n",
        "For full credit, your code must satisfy all of the following requirements:\n",
        "1. Pass all of the assert tests provided below\n",
        "2. Have a docstring with parameter types, function description, and at least 5 test cases that cover a range of inputs and outputs\n",
        "3. Successfully run all 5 tests when the *run_docstring_examples* cell is called\n",
        "4. Implement the rules above completely, even if a test scenario is not represented in the asserts or docstrings\n",
        "\n"
      ]
    },
    {
      "cell_type": "code",
      "execution_count": 15,
      "metadata": {
        "id": "JOOXQWPG5f3K",
        "outputId": "954b467f-8060-4364-f780-343fc6290b95",
        "colab": {
          "base_uri": "https://localhost:8080/"
        }
      },
      "outputs": [
        {
          "output_type": "stream",
          "name": "stdout",
          "text": [
            "Finding tests in NoName\n",
            "Trying:\n",
            "    map_test(110, 70, False)\n",
            "Expecting:\n",
            "    True\n",
            "ok\n",
            "Trying:\n",
            "    map_test(90, 50, False)\n",
            "Expecting:\n",
            "    True\n",
            "ok\n",
            "Trying:\n",
            "    map_test(110, 70, True)\n",
            "Expecting:\n",
            "    True\n",
            "ok\n",
            "Trying:\n",
            "    map_test(90, 50, True)\n",
            "Expecting:\n",
            "    False\n",
            "ok\n",
            "Trying:\n",
            "    map_test(0, 70, False)\n",
            "Expecting:\n",
            "    None\n",
            "**********************************************************************\n",
            "File \"__main__\", line 22, in NoName\n",
            "Failed example:\n",
            "    map_test(0, 70, False)\n",
            "Expected:\n",
            "    None\n",
            "Got nothing\n",
            "Trying:\n",
            "    map_test(110, 0, False)\n",
            "Expecting:\n",
            "    None\n",
            "**********************************************************************\n",
            "File \"__main__\", line 24, in NoName\n",
            "Failed example:\n",
            "    map_test(110, 0, False)\n",
            "Expected:\n",
            "    None\n",
            "Got nothing\n",
            "Trying:\n",
            "    map_test(0, 0, True)\n",
            "Expecting:\n",
            "    None\n",
            "**********************************************************************\n",
            "File \"__main__\", line 26, in NoName\n",
            "Failed example:\n",
            "    map_test(0, 0, True)\n",
            "Expected:\n",
            "    None\n",
            "Got nothing\n"
          ]
        }
      ],
      "source": [
        "def map_test(systolic_bp: int, diastolic_bp: int, severe_sepsis: bool) -> bool:\n",
        "    \"\"\"\n",
        "\n",
        "    Parameters:\n",
        "    - systolic_bp: The systolic blood pressure (int).\n",
        "    - diastolic_bp: The diastolic blood pressure (int).\n",
        "    - severe_sepsis: Indicates if the patient has severe sepsis (bool).\n",
        "\n",
        "    Returns:\n",
        "    - True if the patient's MAP is sufficient based on their sepsis status, otherwise False.\n",
        "    - Returns None if either of the blood pressure values are 0 or negative.\n",
        "\n",
        "    Examples:\n",
        "    >>> map_test(110, 70, False)\n",
        "    True\n",
        "    >>> map_test(90, 50, False)\n",
        "    True\n",
        "    >>> map_test(110, 70, True)\n",
        "    True\n",
        "    >>> map_test(90, 50, True)\n",
        "    False\n",
        "    >>> map_test(0, 70, False)\n",
        "    None\n",
        "    >>> map_test(110, 0, False)\n",
        "    None\n",
        "    >>> map_test(0, 0, True)\n",
        "    None\n",
        "    \"\"\"\n",
        "\n",
        "    if systolic_bp <= 0 or diastolic_bp <= 0:\n",
        "        return None\n",
        "\n",
        "    map_value = (1/3 * systolic_bp) + (2/3 * diastolic_bp)\n",
        "\n",
        "    if severe_sepsis and map_value >= 65:\n",
        "        return True\n",
        "    elif not severe_sepsis and map_value >= 60:\n",
        "        return True\n",
        "\n",
        "    return False\n",
        "\n",
        "# Provided test cases\n",
        "assert map_test(110, 70, False) == True\n",
        "assert map_test(90,  50, False) == True\n",
        "assert map_test(110, 70, True)  == True\n",
        "assert map_test(90,  50, True)  == False\n",
        "assert map_test(0,   70, False) == None\n",
        "assert map_test(110, 0,  False) == None\n",
        "assert map_test(0,   70, True)  == None\n",
        "assert map_test(110, 0,  True)  == None\n",
        "assert map_test(0,   0,  False) == None\n",
        "assert map_test(0,   0,  True)  == None\n",
        "\n",
        "import doctest\n",
        "doctest.run_docstring_examples(map_test, globals(), verbose=True)\n"
      ]
    },
    {
      "cell_type": "code",
      "execution_count": 3,
      "metadata": {
        "id": "YJIizcnU5f3L"
      },
      "outputs": [],
      "source": [
        "# map_test(systolic_bp, diastolic_bp, severe_sepsis) == True if the patient is getting enough oxygen to their body\n",
        "# map_test(systolic_bp, diastolic_bp, severe_sepsis) == False if the patient is not getting enough oxygen\n",
        "\n",
        "assert map_test(110, 70, False) == True\n",
        "assert map_test(90,  50, False) == True\n",
        "assert map_test(110, 70, True)  == True\n",
        "assert map_test(90,  50, True)  == False\n",
        "assert map_test(0,   70, False) == None\n",
        "assert map_test(110, 0,  False) == None\n",
        "assert map_test(0,   70, True)  == None\n",
        "assert map_test(110, 0,  True)  == None\n",
        "assert map_test(0,   0,  False) == None\n",
        "assert map_test(0,   0,  True)  == None"
      ]
    },
    {
      "cell_type": "code",
      "execution_count": 4,
      "metadata": {
        "id": "bmbspew05f3L",
        "outputId": "97fa8c7d-600d-4e0e-8417-858485856312",
        "colab": {
          "base_uri": "https://localhost:8080/"
        }
      },
      "outputs": [
        {
          "output_type": "stream",
          "name": "stdout",
          "text": [
            "Finding tests in NoName\n",
            "Trying:\n",
            "    map_test(110, 70, False)\n",
            "Expecting:\n",
            "    True\n",
            "ok\n",
            "Trying:\n",
            "    map_test(90, 50, False)\n",
            "Expecting:\n",
            "    True\n",
            "ok\n",
            "Trying:\n",
            "    map_test(110, 70, True)\n",
            "Expecting:\n",
            "    True\n",
            "ok\n",
            "Trying:\n",
            "    map_test(90, 50, True)\n",
            "Expecting:\n",
            "    False\n",
            "ok\n",
            "Trying:\n",
            "    map_test(0, 70, False)\n",
            "Expecting:\n",
            "    None\n",
            "**********************************************************************\n",
            "File \"__main__\", line 23, in NoName\n",
            "Failed example:\n",
            "    map_test(0, 70, False)\n",
            "Expected:\n",
            "    None\n",
            "Got nothing\n",
            "Trying:\n",
            "    map_test(110, 0, False)\n",
            "Expecting:\n",
            "    None\n",
            "**********************************************************************\n",
            "File \"__main__\", line 25, in NoName\n",
            "Failed example:\n",
            "    map_test(110, 0, False)\n",
            "Expected:\n",
            "    None\n",
            "Got nothing\n",
            "Trying:\n",
            "    map_test(0, 0, True)\n",
            "Expecting:\n",
            "    None\n",
            "**********************************************************************\n",
            "File \"__main__\", line 27, in NoName\n",
            "Failed example:\n",
            "    map_test(0, 0, True)\n",
            "Expected:\n",
            "    None\n",
            "Got nothing\n"
          ]
        }
      ],
      "source": [
        "import doctest\n",
        "doctest.run_docstring_examples(map_test, globals(), verbose=True)"
      ]
    },
    {
      "cell_type": "markdown",
      "metadata": {
        "id": "wmSWEilp5f3L"
      },
      "source": [
        "## Q6.2\n",
        "\n",
        "Replace the `?` in each of the lines of code below with one of the following responses: `dict`, `list`, `str`, `int`, or `ERROR` if you think the code is invalid.\n",
        "\n",
        "Based on the following value of the variable `data`:\n",
        "\n",
        "```python\n",
        "data = [\n",
        "    {\n",
        "        \"last_name\": \"Boal\",\n",
        "        \"first_names\": [\"Paul\", \"Anny\"]\n",
        "    },\n",
        "    {\n",
        "        \"last_name\": \"Einstein\",\n",
        "        \"first_names\": [\"Albert\"]\n",
        "    }\n",
        "]\n",
        "```\n",
        "\n",
        "The first one is done for you to show as an example."
      ]
    },
    {
      "cell_type": "code",
      "execution_count": null,
      "metadata": {
        "id": "Ayiqv6rw5f3M"
      },
      "outputs": [],
      "source": [
        "type(data) == list"
      ]
    },
    {
      "cell_type": "code",
      "execution_count": null,
      "metadata": {
        "id": "cfdcHEdZ5f3M"
      },
      "outputs": [],
      "source": [
        "type(data[0]) == dict"
      ]
    },
    {
      "cell_type": "code",
      "execution_count": null,
      "metadata": {
        "id": "qSiwPjmS5f3M"
      },
      "outputs": [],
      "source": [
        "type(data[1]) == dict"
      ]
    },
    {
      "cell_type": "code",
      "execution_count": null,
      "metadata": {
        "id": "7QqsiRAm5f3M"
      },
      "outputs": [],
      "source": [
        "type(data[0][\"first_names\"]) == list"
      ]
    },
    {
      "cell_type": "code",
      "execution_count": null,
      "metadata": {
        "id": "T2CQYM9j5f3M"
      },
      "outputs": [],
      "source": [
        "type(data[0][\"first_names\"][0]) == str"
      ]
    },
    {
      "cell_type": "code",
      "execution_count": null,
      "metadata": {
        "id": "dxyDDDm15f3N"
      },
      "outputs": [],
      "source": [
        "type(data[-1][\"last_name\"]) == str"
      ]
    },
    {
      "cell_type": "code",
      "execution_count": null,
      "metadata": {
        "id": "rbhi7Fb25f3N"
      },
      "outputs": [],
      "source": []
    }
  ],
  "metadata": {
    "kernelspec": {
      "display_name": ".venv",
      "language": "python",
      "name": "python3"
    },
    "language_info": {
      "codemirror_mode": {
        "name": "ipython",
        "version": 3
      },
      "file_extension": ".py",
      "mimetype": "text/x-python",
      "name": "python",
      "nbconvert_exporter": "python",
      "pygments_lexer": "ipython3",
      "version": "3.9.16"
    },
    "orig_nbformat": 4,
    "colab": {
      "provenance": []
    }
  },
  "nbformat": 4,
  "nbformat_minor": 0
}