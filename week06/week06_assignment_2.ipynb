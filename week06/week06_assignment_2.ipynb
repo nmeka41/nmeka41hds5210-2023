{
  "cells": [
    {
      "cell_type": "markdown",
      "metadata": {
        "nbgrader": {
          "grade": false,
          "grade_id": "intro",
          "locked": true,
          "schema_version": 1,
          "solution": false
        },
        "id": "jHGIdLLaBKW6"
      },
      "source": [
        "# Week 6 Exercises\n",
        "\n",
        "_McKinney 6.1_\n",
        "\n",
        "There are multiple ways to solve the problems below.  You can use any one of several approaches.  For example, you can read CSV files using Pandas or the csv module.  Your score won't depend on which modules you choose to use unless explicitly noted below, but your programming style will still matter."
      ]
    },
    {
      "cell_type": "markdown",
      "metadata": {
        "nbgrader": {
          "grade": false,
          "grade_id": "q1-description",
          "locked": true,
          "schema_version": 1,
          "solution": false
        },
        "id": "ahYhmaSpBKW8"
      },
      "source": [
        "### 30.1 List of Allergies\n",
        "\n",
        "In this GitHub repository, there is a file called `allergies.json` that contains a list of patient allergies.  You will need to download this [file from here](https://raw.githubusercontent.com/paulboal/hds5210-2023/main/week06/allergies.json) and then upload it into Google Colab to run these examples. It is taken from sample data provided by the EHR vendor, Epic, here: https://open.epic.com/Clinical/Allergy\n",
        "\n",
        "Take some time to look at the structure of the file.  You can open it directly in Jupyter by clicking the _Home_ icon, then the _from_instructor_ folder, and then the _data_ folder.\n",
        "\n",
        "Within the file, you'll see that it is a dictionary with many items in it.  One of those items is called `entry` and that item is a list of things.  You can tell that because the item name is immediately followed by an opening square bracket, signifying the start of a list.  It's line 11 of the file: `  \"entry\": [`\n",
        "\n",
        "Write a function named `allergy_count(json_file)` that takes as one parameter the name of the JSON file and returns an integer number of entries in that file.  Your function should open the file, read the json into a Python object, and return how many items there are in the list of `entry`s."
      ]
    },
    {
      "cell_type": "code",
      "execution_count": 35,
      "metadata": {
        "id": "qq4OOUB2BKW8"
      },
      "outputs": [],
      "source": [
        "import json\n",
        "ALLERGIES_FILE=\"allergies.json\""
      ]
    },
    {
      "cell_type": "code",
      "execution_count": 36,
      "metadata": {
        "nbgrader": {
          "grade": false,
          "grade_id": "q1-answer",
          "locked": false,
          "schema_version": 1,
          "solution": true
        },
        "id": "fUoR6m6oBKW9"
      },
      "outputs": [],
      "source": [
        "def allergy_count(json_file):\n",
        "    with open(json_file, 'r') as f:\n",
        "        data = json.load(f)\n",
        "    return len(data['entry'])"
      ]
    },
    {
      "cell_type": "code",
      "execution_count": 37,
      "metadata": {
        "id": "w0PxxqjnBKW9",
        "outputId": "92405c76-573c-41d0-d061-3e72771094a2",
        "colab": {
          "base_uri": "https://localhost:8080/"
        }
      },
      "outputs": [
        {
          "output_type": "execute_result",
          "data": {
            "text/plain": [
              "4"
            ]
          },
          "metadata": {},
          "execution_count": 37
        }
      ],
      "source": [
        "allergy_count(ALLERGIES_FILE)"
      ]
    },
    {
      "cell_type": "code",
      "execution_count": 38,
      "metadata": {
        "nbgrader": {
          "grade": true,
          "grade_id": "q1-tests",
          "locked": true,
          "points": 5,
          "schema_version": 1,
          "solution": false
        },
        "id": "bxZU1A3dBKW-"
      },
      "outputs": [],
      "source": [
        "assert type(allergy_count(ALLERGIES_FILE)) == int\n",
        "assert allergy_count(ALLERGIES_FILE) == 4"
      ]
    },
    {
      "cell_type": "markdown",
      "metadata": {
        "id": "Nl3dAE3-BKW-"
      },
      "source": [
        "### 30.2 Number of Patients\n",
        "\n",
        "If you dig a little bit deaper into this list of allergies, you'll see that each result has a patient associated with it.  Create a funcation called `patient_count(json_file)` that will count how many unique patients we have in this JSON structure.  "
      ]
    },
    {
      "cell_type": "code",
      "execution_count": 39,
      "metadata": {
        "id": "cKk7uqj4BKW-"
      },
      "outputs": [],
      "source": [
        "def patient_count(json_file):\n",
        "    with open(json_file, 'r') as f:\n",
        "        data = json.load(f)\n",
        "    patient_names = [entry['resource']['patient']['display'] for entry in data['entry']]\n",
        "    return len(set(patient_names))"
      ]
    },
    {
      "cell_type": "code",
      "execution_count": 40,
      "metadata": {
        "id": "HUrvib9yBKW-",
        "outputId": "05998ca9-0917-45b4-8bd9-c24dfd97dbb5",
        "colab": {
          "base_uri": "https://localhost:8080/"
        }
      },
      "outputs": [
        {
          "output_type": "execute_result",
          "data": {
            "text/plain": [
              "2"
            ]
          },
          "metadata": {},
          "execution_count": 40
        }
      ],
      "source": [
        "patient_count(ALLERGIES_FILE)"
      ]
    },
    {
      "cell_type": "code",
      "execution_count": 41,
      "metadata": {
        "id": "VCNJA2MaBKW-"
      },
      "outputs": [],
      "source": [
        "assert type(patient_count(ALLERGIES_FILE)) == int\n",
        "assert patient_count(ALLERGIES_FILE) == 2"
      ]
    },
    {
      "cell_type": "markdown",
      "metadata": {
        "id": "BzwjpWvjBKW_"
      },
      "source": [
        "### 30.3 How Many Allergies per Patient\n",
        "\n",
        "Although each entry is a separate allergy, several of them are for the same patient.  Write a function called `allergy_per_patient(json_file)` that counts up how many allergies each patient has.\n"
      ]
    },
    {
      "cell_type": "code",
      "execution_count": 42,
      "metadata": {
        "id": "uF55cRP0BKW_"
      },
      "outputs": [],
      "source": [
        "from collections import defaultdict\n",
        "def allergy_per_patient(json_file):\n",
        "    with open(json_file, 'r') as f:\n",
        "        data = json.load(f)\n",
        "    allergies_count = defaultdict(int)\n",
        "    for entry in data['entry']:\n",
        "        patient_name = entry['resource']['patient']['display']\n",
        "        allergies_count[patient_name] += 1\n",
        "    return dict(allergies_count)"
      ]
    },
    {
      "cell_type": "code",
      "execution_count": 43,
      "metadata": {
        "id": "L112ws_bBKW_",
        "outputId": "f8cfc0d5-6687-4f39-c27e-a24153771523",
        "colab": {
          "base_uri": "https://localhost:8080/"
        }
      },
      "outputs": [
        {
          "output_type": "execute_result",
          "data": {
            "text/plain": [
              "{'Jason Argonaut': 3, 'Paul Boal': 1}"
            ]
          },
          "metadata": {},
          "execution_count": 43
        }
      ],
      "source": [
        "allergy_per_patient(ALLERGIES_FILE)"
      ]
    },
    {
      "cell_type": "code",
      "execution_count": 44,
      "metadata": {
        "id": "wBMklkZLBKW_"
      },
      "outputs": [],
      "source": [
        "assert type(allergy_per_patient(ALLERGIES_FILE)) == dict\n",
        "assert allergy_per_patient(ALLERGIES_FILE) == {'Paul Boal': 1, 'Jason Argonaut': 3}"
      ]
    },
    {
      "cell_type": "markdown",
      "metadata": {
        "nbgrader": {
          "grade": false,
          "grade_id": "q2-question",
          "locked": true,
          "schema_version": 1,
          "solution": false
        },
        "id": "V3i01A5oBKXA"
      },
      "source": [
        "### 30.4 Patient Allergies and Reaction\n",
        "\n",
        "You'll see in the file that each of the items in the `entry` list have several other attributes including a patient name, substance text representation, and a reaction manifestation.  Create a function named `allergy_list(json_file)` that will create an output list that has patient name, allergy, and reaction for each `entry`.  The actual result you should get will be:\n",
        "\n",
        "```python\n",
        "[['Jason Argonaut', 'PENICILLIN G', 'Hives'],\n",
        " ['Paul Boal', 'PENICILLIN G', 'Bruising'],\n",
        " ['Jason Argonaut', 'SHELLFISH-DERIVED PRODUCTS', 'Itching'],\n",
        " ['Jason Argonaut', 'STRAWBERRY', 'Anaphylaxis']]\n",
        "```\n",
        "\n",
        "You'll notice that the reaction and the manifestation of that action are lists.  You only need to capture the first reaction and the first manifestation of the action.  That is, if there is a list of things, just output the first one."
      ]
    },
    {
      "cell_type": "code",
      "execution_count": 45,
      "metadata": {
        "nbgrader": {
          "grade": false,
          "grade_id": "q2-answer",
          "locked": false,
          "schema_version": 1,
          "solution": true
        },
        "id": "-9lEBX4nBKXA"
      },
      "outputs": [],
      "source": [
        "\n",
        "def allergy_list(json_file):\n",
        "    with open(json_file, 'r') as f:\n",
        "        data = json.load(f)\n",
        "    result = []\n",
        "    for entry in data['entry']:\n",
        "        patient_name = entry['resource']['patient']['display']\n",
        "        substance = entry['resource']['substance']['text']\n",
        "        reaction = entry['resource']['reaction'][0]['manifestation'][0]['text']\n",
        "        result.append([patient_name, substance, reaction])\n",
        "\n",
        "    return result"
      ]
    },
    {
      "cell_type": "code",
      "execution_count": 46,
      "metadata": {
        "id": "8g-b4oDnBKXA",
        "outputId": "3f17d3fa-d396-42ec-bf4d-3dd82ead4df1",
        "colab": {
          "base_uri": "https://localhost:8080/"
        }
      },
      "outputs": [
        {
          "output_type": "execute_result",
          "data": {
            "text/plain": [
              "[['Jason Argonaut', 'PENICILLIN G', 'Hives'],\n",
              " ['Jason Argonaut', 'SHELLFISH-DERIVED PRODUCTS', 'Itching'],\n",
              " ['Jason Argonaut', 'STRAWBERRY', 'Anaphylaxis'],\n",
              " ['Paul Boal', 'PENICILLIN G', 'Bruising']]"
            ]
          },
          "metadata": {},
          "execution_count": 46
        }
      ],
      "source": [
        "allergy_list(ALLERGIES_FILE)"
      ]
    },
    {
      "cell_type": "code",
      "execution_count": 47,
      "metadata": {
        "nbgrader": {
          "grade": true,
          "grade_id": "q2-tests",
          "locked": true,
          "points": 10,
          "schema_version": 1,
          "solution": false
        },
        "id": "s_oQaFzkBKXA"
      },
      "outputs": [],
      "source": [
        "assert allergy_list(ALLERGIES_FILE) == [['Jason Argonaut', 'PENICILLIN G', 'Hives'],\n",
        " ['Jason Argonaut', 'SHELLFISH-DERIVED PRODUCTS', 'Itching'],\n",
        " ['Jason Argonaut', 'STRAWBERRY', 'Anaphylaxis'],\n",
        " ['Paul Boal', 'PENICILLIN G', 'Bruising']]\n"
      ]
    },
    {
      "cell_type": "markdown",
      "metadata": {
        "nbgrader": {
          "grade": false,
          "grade_id": "q3-question",
          "locked": true,
          "schema_version": 1,
          "solution": false
        },
        "id": "v7tcT4iNBKXA"
      },
      "source": [
        "### 30.5 Allergy Reaction\n",
        "\n",
        "Write a function called `allergy_reaction(json_file,patient,substance)` that takes three parameter and returns the reaction that will happen if the patient takes the specified substance.  You can solve this, in part, by calling your `allergy_list` function inside your new `allergy_reaction` function.\n",
        "\n",
        "If the substance is not found in the allergy list, the function should return None."
      ]
    },
    {
      "cell_type": "code",
      "execution_count": 48,
      "metadata": {
        "nbgrader": {
          "grade": false,
          "grade_id": "q3-answer",
          "locked": false,
          "schema_version": 1,
          "solution": true
        },
        "id": "iFzT3-2QBKXA"
      },
      "outputs": [],
      "source": [
        "def allergy_reaction(json_file, patient, substance):\n",
        "    allergies = allergy_list(json_file)\n",
        "\n",
        "    for entry in allergies:\n",
        "        if entry[0] == patient and entry[1] == substance:\n",
        "            return entry[2]\n",
        "\n",
        "    return None\n",
        "def allergy_list(json_file):\n",
        "    with open(json_file, 'r') as f:\n",
        "        data = json.load(f)\n",
        "\n",
        "    result = []\n",
        "\n",
        "    for entry in data['entry']:\n",
        "        patient_name = entry['resource']['patient']['display']\n",
        "        substance_text = entry['resource']['substance']['text']\n",
        "        reaction = entry['resource']['reaction'][0]['manifestation'][0]['text']\n",
        "        result.append([patient_name, substance_text, reaction])\n",
        "    return result"
      ]
    },
    {
      "cell_type": "code",
      "execution_count": 49,
      "metadata": {
        "id": "IHB08-4bBKXB",
        "outputId": "9b90c329-5557-4722-c488-9516709a3a96",
        "colab": {
          "base_uri": "https://localhost:8080/",
          "height": 36
        }
      },
      "outputs": [
        {
          "output_type": "execute_result",
          "data": {
            "text/plain": [
              "'Hives'"
            ],
            "application/vnd.google.colaboratory.intrinsic+json": {
              "type": "string"
            }
          },
          "metadata": {},
          "execution_count": 49
        }
      ],
      "source": [
        "allergy_reaction(ALLERGIES_FILE, 'Jason Argonaut', 'PENICILLIN G')"
      ]
    },
    {
      "cell_type": "code",
      "execution_count": 50,
      "metadata": {
        "nbgrader": {
          "grade": true,
          "grade_id": "q3-tests",
          "locked": true,
          "points": 5,
          "schema_version": 1,
          "solution": false
        },
        "id": "8-fEtUlZBKXB"
      },
      "outputs": [],
      "source": [
        "assert allergy_reaction(ALLERGIES_FILE, 'Jason Argonaut', 'PENICILLIN G') == 'Hives'\n",
        "assert allergy_reaction(ALLERGIES_FILE, 'Jason Argonaut', 'SHELLFISH-DERIVED PRODUCTS') == 'Itching'\n",
        "assert allergy_reaction(ALLERGIES_FILE, 'Jason Argonaut', 'STRAWBERRY') == 'Anaphylaxis'\n",
        "assert allergy_reaction(ALLERGIES_FILE, 'Jason Argonaut', 'PENICILLIN') == None\n",
        "assert allergy_reaction(ALLERGIES_FILE, 'Paul Boal', 'PENICILLIN G') == 'Bruising'"
      ]
    },
    {
      "cell_type": "markdown",
      "metadata": {
        "id": "gGKSpHAJBKXB"
      },
      "source": [
        "---\n",
        "\n",
        "## Check your work above\n",
        "\n",
        "If you didn't get them all correct, take a few minutes to think through those that aren't correct.\n",
        "\n",
        "\n",
        "## Submitting Your Work\n",
        "\n",
        "In order to submit your work, you'll need to save this notebook file back to GitHub.  To do that in Google Colab:\n",
        "1. File -> Save a Copy in GitHub\n",
        "2. Make sure your HDS5210 repository is selected\n",
        "3. Make sure the file name includes the week number like this: `week06/week06_assignment_2.ipynb`\n",
        "4. Add a commit message that means something\n",
        "\n",
        "**Be sure week names are lowercase and use a two digit week number!!**\n",
        "\n",
        "**Be sure you use the same file name provided by the instructor!!**\n",
        "\n"
      ]
    }
  ],
  "metadata": {
    "celltoolbar": "Create Assignment",
    "kernelspec": {
      "display_name": "Python 3",
      "language": "python",
      "name": "python3"
    },
    "language_info": {
      "codemirror_mode": {
        "name": "ipython",
        "version": 3
      },
      "file_extension": ".py",
      "mimetype": "text/x-python",
      "name": "python",
      "nbconvert_exporter": "python",
      "pygments_lexer": "ipython3",
      "version": "3.9.16"
    },
    "colab": {
      "provenance": []
    }
  },
  "nbformat": 4,
  "nbformat_minor": 0
}